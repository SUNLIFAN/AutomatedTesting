{
 "cells": [
  {
   "cell_type": "markdown",
   "id": "2bbb26a4-d63c-42b7-b8e9-33ec12547e9b",
   "metadata": {},
   "source": [
    "# 数据增强方法"
   ]
  },
  {
   "cell_type": "markdown",
   "id": "e28ff9dc-3278-4b02-a4e1-83f51dee0ed6",
   "metadata": {},
   "source": [
    "由于有效的数据量十分有限，为了能够获得更好的训练效果，同时留出一定量的数据来对模型进行评估，我们设计了一些数据增强方法，以获取更多数据，这些方法部分借鉴了文本增强方法中常用的思想。"
   ]
  },
  {
   "cell_type": "markdown",
   "id": "74747e2a-0c40-4a01-9b7e-faac98b6a7e6",
   "metadata": {},
   "source": [
    "## 1. 针对算数运算的增强"
   ]
  },
  {
   "cell_type": "markdown",
   "id": "333c89cd-170c-4b5e-bf28-46109e891163",
   "metadata": {},
   "source": [
    "对于所有的加/减法, 以 p 概率换为减/加法"
   ]
  },
  {
   "cell_type": "code",
   "execution_count": 175,
   "id": "9e5fae2a-3653-4d32-8f6b-b620be8a3c04",
   "metadata": {},
   "outputs": [],
   "source": [
    "import random\n",
    "import re"
   ]
  },
  {
   "cell_type": "code",
   "execution_count": 176,
   "id": "f56979b9-67d9-4f7b-b9d4-3e0f10f43631",
   "metadata": {},
   "outputs": [],
   "source": [
    "def replace_add_sub(code_snippet, p):\n",
    "    tokens = re.split('\\s+', code_snippet)\n",
    "    replaced = ''\n",
    "    for token in tokens:\n",
    "        q = random.random()\n",
    "        if token == '+' and q <= p:\n",
    "            replaced += '- '\n",
    "        elif token == '-' and q <= p:\n",
    "            replaced += '+ '\n",
    "        else:\n",
    "            replaced += (token + ' ')\n",
    "    return replaced"
   ]
  },
  {
   "cell_type": "code",
   "execution_count": 177,
   "id": "37cfc696-f1f0-4eeb-8464-9a227ef16c84",
   "metadata": {},
   "outputs": [],
   "source": [
    "text = r\"\"\"\n",
    "def add_sub(a, b):\n",
    "    c = a + b\n",
    "    d = c - a\n",
    "    b = a * c + b\n",
    "    e = b + a - c * d - q\n",
    "    return e - b + d + a - c\n",
    "\"\"\""
   ]
  },
  {
   "cell_type": "code",
   "execution_count": 178,
   "id": "4ce0d5f9-0c88-4687-b9d9-6320b0c5ecf9",
   "metadata": {},
   "outputs": [
    {
     "data": {
      "text/plain": [
       "' def add_sub(a, b): c = a + b d = c - a b = a * c - b e = b + a - c * d - q return e + b + d + a - c  '"
      ]
     },
     "execution_count": 178,
     "metadata": {},
     "output_type": "execute_result"
    }
   ],
   "source": [
    "replace_add_sub(text, 0.1)"
   ]
  },
  {
   "cell_type": "markdown",
   "id": "4650066d-adb2-467a-9d1c-2e13fa55b341",
   "metadata": {},
   "source": [
    "## 2. 针对逻辑运算的数据增强"
   ]
  },
  {
   "cell_type": "markdown",
   "id": "ac38a971-1d8f-4a60-94e4-cb93d33b5c06",
   "metadata": {},
   "source": [
    "### 2.1 以概率 p 删去某个条件分量"
   ]
  },
  {
   "cell_type": "code",
   "execution_count": 179,
   "id": "61e828c0-5275-47f9-bc0e-c9883ed8b023",
   "metadata": {},
   "outputs": [],
   "source": [
    "def remove_cond_component_cpp(code_snippet, p):\n",
    "    tokens = re.split('\\s+', code_snippet)\n",
    "    len_in_tokens = len(tokens)\n",
    "    res = ''\n",
    "    i = 0\n",
    "    while i < len_in_tokens:\n",
    "        q = random.random()\n",
    "        if (tokens[i] == '&&' or tokens[i] == '||') and q <= p:\n",
    "            while i < len_in_tokens and tokens[i] != ')':\n",
    "                i += 1\n",
    "        if i < len_in_tokens:\n",
    "            res += (tokens[i] + ' ')\n",
    "        i += 1\n",
    "    return res        "
   ]
  },
  {
   "cell_type": "code",
   "execution_count": 180,
   "id": "87254930-b00f-434c-be6a-2b66b3af69e1",
   "metadata": {},
   "outputs": [],
   "source": [
    "text = r\"\"\"\n",
    "if ( rank_ == 0 || ( commType != NCCLCommType::COLL && p2pRank == 0 ) ) { C10D_NCCL_CHECK ( ncclGetUniqueId ( & ncclID ) ) ; }\n",
    "\"\"\""
   ]
  },
  {
   "cell_type": "code",
   "execution_count": 181,
   "id": "f5df5d07-0306-419e-b544-95950b24e61e",
   "metadata": {},
   "outputs": [
    {
     "data": {
      "text/plain": [
       "' if ( rank_ == 0 ) ) { C10D_NCCL_CHECK ( ncclGetUniqueId ( & ncclID ) ) ; }  '"
      ]
     },
     "execution_count": 181,
     "metadata": {},
     "output_type": "execute_result"
    }
   ],
   "source": [
    "remove_cond_component_cpp(text, 0.2)"
   ]
  },
  {
   "cell_type": "markdown",
   "id": "5730fbd1-43ec-44a4-bb6a-d2c610d7db50",
   "metadata": {},
   "source": [
    "### 2.2 以概率 p 把每个 || 和 && 互换"
   ]
  },
  {
   "cell_type": "code",
   "execution_count": 182,
   "id": "3143c7ee-f094-43a9-9b35-2390a36f1917",
   "metadata": {},
   "outputs": [],
   "source": [
    "def swap_cond_cpp(code_snippet, p):\n",
    "    tokens = re.split('\\s+', code_snippet)\n",
    "    res = ''\n",
    "    for token in tokens:\n",
    "        q = random.random()\n",
    "        if token == '&&' and q <= p:\n",
    "            res += '|| '\n",
    "        elif token == '||' and q <= p:\n",
    "            res += '&& '\n",
    "        else:\n",
    "            res += token\n",
    "            res += ' '\n",
    "    return res\n",
    "    "
   ]
  },
  {
   "cell_type": "code",
   "execution_count": 183,
   "id": "12874599-f8e0-4919-8165-0233279419b7",
   "metadata": {},
   "outputs": [],
   "source": [
    "def swap_cond_py(code_snippet, p):\n",
    "    tokens = re.split('\\s+', code_snippet)\n",
    "    res = ''\n",
    "    for token in tokens:\n",
    "        q = random.random()\n",
    "        if token == 'and' and q <= p:\n",
    "            res += 'or '\n",
    "        elif token == 'or' and q <= p:\n",
    "            res += 'and '\n",
    "        else:\n",
    "            res += token\n",
    "            res += ' '\n",
    "    return res\n",
    "    "
   ]
  },
  {
   "cell_type": "code",
   "execution_count": 184,
   "id": "e25d74ee-14ed-4193-9366-55134b1ca60f",
   "metadata": {},
   "outputs": [],
   "source": [
    "text = r\"\"\"\n",
    "if ( rank_ == 0 || ( commType != NCCLCommType::COLL && p2pRank == 0 ) ) { C10D_NCCL_CHECK ( ncclGetUniqueId ( & ncclID ) ) ; }\n",
    "\"\"\""
   ]
  },
  {
   "cell_type": "code",
   "execution_count": 185,
   "id": "8a3dfd45-552b-4e1a-ac51-b2e858bbd034",
   "metadata": {},
   "outputs": [
    {
     "data": {
      "text/plain": [
       "' if ( rank_ == 0 || ( commType != NCCLCommType::COLL && p2pRank == 0 ) ) { C10D_NCCL_CHECK ( ncclGetUniqueId ( & ncclID ) ) ; }  '"
      ]
     },
     "execution_count": 185,
     "metadata": {},
     "output_type": "execute_result"
    }
   ],
   "source": [
    "swap_cond_cpp(text, 0.2)"
   ]
  },
  {
   "cell_type": "code",
   "execution_count": 186,
   "id": "d8c3da62-e0b7-46f6-8443-e161131bf629",
   "metadata": {},
   "outputs": [],
   "source": [
    "text = r\"\"\"\n",
    "if a and b or c or d and e or f:\n",
    "    i += 1\n",
    "\"\"\""
   ]
  },
  {
   "cell_type": "code",
   "execution_count": 187,
   "id": "6d829cfd-004c-4105-9dec-3958e5da162c",
   "metadata": {},
   "outputs": [
    {
     "data": {
      "text/plain": [
       "' if a and b or c or d or e or f: i += 1  '"
      ]
     },
     "execution_count": 187,
     "metadata": {},
     "output_type": "execute_result"
    }
   ],
   "source": [
    "swap_cond_py(text, 0.3)"
   ]
  },
  {
   "cell_type": "markdown",
   "id": "949391e3-e7e1-49e8-9476-e359708acb74",
   "metadata": {},
   "source": [
    "## 3. 针对对象访问的增强"
   ]
  },
  {
   "cell_type": "markdown",
   "id": "c957aa3b-4a3b-4a56-9256-a61dd6c0be48",
   "metadata": {},
   "source": [
    "对于所有的 . 和 ->, 以 p 概率换成 -> 或者 ."
   ]
  },
  {
   "cell_type": "code",
   "execution_count": 188,
   "id": "6f5fafa7-2e00-4187-8620-8870f1805f09",
   "metadata": {},
   "outputs": [],
   "source": [
    "def swap_access(code_snippet, p):\n",
    "    tokens = re.split('\\s+', code_snippet)\n",
    "    res = ''\n",
    "    for token in tokens:\n",
    "        q = random.random()\n",
    "        if token == '->' and q <= p:\n",
    "            res += '. '\n",
    "        elif token == '.' and q <= p:\n",
    "            res += '-> '\n",
    "        else:\n",
    "            res += token\n",
    "            res += ' '\n",
    "    return res"
   ]
  },
  {
   "cell_type": "code",
   "execution_count": 189,
   "id": "5b033623-1ff3-4057-aee0-d7ef7f3cfb79",
   "metadata": {},
   "outputs": [],
   "source": [
    "text = r\"\"\"\n",
    "if ( check_has_torch_function ( self ) ) { return handle_torch_function_setter ( ( THPVariable * ) self , \"\"names\"\" , names ) ; } auto & var = ( ( THPVariable * ) self ) -> cdata ;\n",
    "\"\"\""
   ]
  },
  {
   "cell_type": "code",
   "execution_count": 190,
   "id": "1a478e44-31c5-4566-bae7-a726fa301e4e",
   "metadata": {},
   "outputs": [
    {
     "data": {
      "text/plain": [
       "' if ( check_has_torch_function ( self ) ) { return handle_torch_function_setter ( ( THPVariable * ) self , \"\"names\"\" , names ) ; } auto & var = ( ( THPVariable * ) self ) -> cdata ;  '"
      ]
     },
     "execution_count": 190,
     "metadata": {},
     "output_type": "execute_result"
    }
   ],
   "source": [
    "swap_access(text, 0.5)"
   ]
  },
  {
   "cell_type": "markdown",
   "id": "0728ca3f-dc25-4f08-a8e8-25e590129b90",
   "metadata": {},
   "source": [
    "## 4. 针对比较运算的数据增强"
   ]
  },
  {
   "cell_type": "markdown",
   "id": "cf077337-ea9a-429b-9f70-4a5eb1eea8c6",
   "metadata": {},
   "source": [
    "以 p 概率把 > / >=, 或者 </ <= 替换"
   ]
  },
  {
   "cell_type": "code",
   "execution_count": 191,
   "id": "33e869fa-45ce-42e1-8280-2cebc1d50c24",
   "metadata": {},
   "outputs": [],
   "source": [
    "def swap_comp(code_snippet, p):\n",
    "    tokens = re.split('\\s+', code_snippet)\n",
    "    res = ''\n",
    "    for token in tokens:\n",
    "        q = random.random()\n",
    "        if token == '>=' and q <= p:\n",
    "            res += '> '\n",
    "        elif token == '<=' and q <= p:\n",
    "            res += '< '\n",
    "        else:\n",
    "            res += token\n",
    "            res += ' '\n",
    "    return res"
   ]
  },
  {
   "cell_type": "code",
   "execution_count": 192,
   "id": "2e986260-b750-4263-9e46-bdfdecf04155",
   "metadata": {},
   "outputs": [],
   "source": [
    "text = r\"\"\"\n",
    "if a >= b {}\n",
    "else if a <= b {}\n",
    "else if a <= c {}\n",
    "else if a >= d {}\n",
    "\"\"\""
   ]
  },
  {
   "cell_type": "code",
   "execution_count": 193,
   "id": "e82066cf-8bfd-42eb-927e-31eac3573778",
   "metadata": {},
   "outputs": [
    {
     "data": {
      "text/plain": [
       "' if a > b {} else if a <= b {} else if a <= c {} else if a >= d {}  '"
      ]
     },
     "execution_count": 193,
     "metadata": {},
     "output_type": "execute_result"
    }
   ],
   "source": [
    "swap_comp(text, 0.3)"
   ]
  },
  {
   "cell_type": "markdown",
   "id": "72ab0eeb-1df7-40c5-8e19-f5aa16f109c4",
   "metadata": {},
   "source": [
    "由于程序片段的破碎性，无法对程序片段进行语法分析，因此损失了很多可用的手段，以上的数据增强方法仅为在这种限制场景下的一些探索"
   ]
  },
  {
   "cell_type": "code",
   "execution_count": 194,
   "id": "b875e914-3910-4fc2-8d62-13b4882926a1",
   "metadata": {},
   "outputs": [],
   "source": [
    "def corrupt(code_snippet, p):\n",
    "    tokens = re.split('\\s+', code_snippet)\n",
    "    res = ''\n",
    "    for token in tokens:\n",
    "        q = random.random()\n",
    "        if q > p:\n",
    "            res += token\n",
    "            res += ' '\n",
    "    return res"
   ]
  },
  {
   "cell_type": "code",
   "execution_count": 195,
   "id": "664e84e7-941b-4ed9-8eaa-549d2ee519ec",
   "metadata": {},
   "outputs": [],
   "source": [
    "text = r\"\"\"\n",
    "this is a token sequence to be corrupted sda sjfhals shags lasjf or 888.\n",
    "\"\"\""
   ]
  },
  {
   "cell_type": "code",
   "execution_count": 196,
   "id": "dfd390a8-41c4-4050-9612-b11175947c6a",
   "metadata": {},
   "outputs": [
    {
     "data": {
      "text/plain": [
       "' this is a token be corrupted sda sjfhals lasjf or 888.  '"
      ]
     },
     "execution_count": 196,
     "metadata": {},
     "output_type": "execute_result"
    }
   ],
   "source": [
    "corrupt(text, 0.2)"
   ]
  },
  {
   "cell_type": "code",
   "execution_count": 197,
   "id": "5ec53802-f511-457b-9577-0babac912411",
   "metadata": {},
   "outputs": [],
   "source": [
    "def randomlyCorrupt(code_snippet, p):\n",
    "    q = random.random()\n",
    "    if q <= 0.15:\n",
    "        return corrupt(code_snippet, p)\n",
    "    return code_snippet"
   ]
  },
  {
   "cell_type": "markdown",
   "id": "4a06b9dd-0971-42b4-97b2-709e921aca28",
   "metadata": {},
   "source": [
    "### 对训练集使用数据增强方法扩增数据"
   ]
  },
  {
   "cell_type": "code",
   "execution_count": 198,
   "id": "49c330b4-97b1-4ceb-8593-cbc811228ff4",
   "metadata": {},
   "outputs": [],
   "source": [
    "import pandas as pd"
   ]
  },
  {
   "cell_type": "code",
   "execution_count": 199,
   "id": "12e97c47-b68f-47db-ae25-491346c5df02",
   "metadata": {},
   "outputs": [],
   "source": [
    "cpp_data_path = '../data/cpp/dl_cpp_tokenized.csv'"
   ]
  },
  {
   "cell_type": "code",
   "execution_count": 200,
   "id": "bf218972-87fc-45e4-9841-611abdc3bbe2",
   "metadata": {},
   "outputs": [],
   "source": [
    "cpp_data = pd.read_csv(cpp_data_path)"
   ]
  },
  {
   "cell_type": "code",
   "execution_count": 201,
   "id": "28098c24-2b25-42d0-9f7f-0181fba90033",
   "metadata": {},
   "outputs": [],
   "source": [
    "py_data_path = '../data/py/dl_py_tokenized.csv'"
   ]
  },
  {
   "cell_type": "code",
   "execution_count": 202,
   "id": "145de602-042f-4450-8e8c-ba9ce8c956b1",
   "metadata": {},
   "outputs": [],
   "source": [
    "py_data = pd.read_csv(py_data_path)"
   ]
  },
  {
   "cell_type": "code",
   "execution_count": 203,
   "id": "7d1a0e57-ea8a-4a33-9874-b32440bf6773",
   "metadata": {},
   "outputs": [
    {
     "data": {
      "text/html": [
       "<div>\n",
       "<style scoped>\n",
       "    .dataframe tbody tr th:only-of-type {\n",
       "        vertical-align: middle;\n",
       "    }\n",
       "\n",
       "    .dataframe tbody tr th {\n",
       "        vertical-align: top;\n",
       "    }\n",
       "\n",
       "    .dataframe thead th {\n",
       "        text-align: right;\n",
       "    }\n",
       "</style>\n",
       "<table border=\"1\" class=\"dataframe\">\n",
       "  <thead>\n",
       "    <tr style=\"text-align: right;\">\n",
       "      <th></th>\n",
       "      <th>BUGGY_CODE</th>\n",
       "      <th>FIXED_CODE</th>\n",
       "    </tr>\n",
       "  </thead>\n",
       "  <tbody>\n",
       "    <tr>\n",
       "      <th>0</th>\n",
       "      <td>std::shared_ptr&lt;ProcessGroupNCCL::WorkNCCL&gt; Pr...</td>\n",
       "      <td>std::shared_ptr&lt;ProcessGroupNCCL::WorkNCCL&gt; Pr...</td>\n",
       "    </tr>\n",
       "    <tr>\n",
       "      <th>1</th>\n",
       "      <td>std::chrono::milliseconds ( kWaitForAbortCommS...</td>\n",
       "      <td>std::chrono::milliseconds ( kWaitForAbortCommS...</td>\n",
       "    </tr>\n",
       "    <tr>\n",
       "      <th>2</th>\n",
       "      <td>if ( rank_ == 0 || ( commType != NCCLCommType:...</td>\n",
       "      <td>if ( rank_ == 0 || ( isP2POp ( opType ) &amp;&amp; p2p...</td>\n",
       "    </tr>\n",
       "    <tr>\n",
       "      <th>3</th>\n",
       "      <td>int numRanks , rank ; if ( commType == NCCLCom...</td>\n",
       "      <td>int numRanks , rank ; if ( sP2POp ( opType ) )...</td>\n",
       "    </tr>\n",
       "    <tr>\n",
       "      <th>4</th>\n",
       "      <td>if ( str != \"None\" &amp;&amp; str != \"\" ) { throw std:...</td>\n",
       "      <td>if ( str != \"None\" ) { default_string = parse_...</td>\n",
       "    </tr>\n",
       "  </tbody>\n",
       "</table>\n",
       "</div>"
      ],
      "text/plain": [
       "                                          BUGGY_CODE  \\\n",
       "0  std::shared_ptr<ProcessGroupNCCL::WorkNCCL> Pr...   \n",
       "1  std::chrono::milliseconds ( kWaitForAbortCommS...   \n",
       "2  if ( rank_ == 0 || ( commType != NCCLCommType:...   \n",
       "3  int numRanks , rank ; if ( commType == NCCLCom...   \n",
       "4  if ( str != \"None\" && str != \"\" ) { throw std:...   \n",
       "\n",
       "                                          FIXED_CODE  \n",
       "0  std::shared_ptr<ProcessGroupNCCL::WorkNCCL> Pr...  \n",
       "1  std::chrono::milliseconds ( kWaitForAbortCommS...  \n",
       "2  if ( rank_ == 0 || ( isP2POp ( opType ) && p2p...  \n",
       "3  int numRanks , rank ; if ( sP2POp ( opType ) )...  \n",
       "4  if ( str != \"None\" ) { default_string = parse_...  "
      ]
     },
     "execution_count": 203,
     "metadata": {},
     "output_type": "execute_result"
    }
   ],
   "source": [
    "cpp_data.head()"
   ]
  },
  {
   "cell_type": "code",
   "execution_count": 204,
   "id": "fea7c9fb-1e02-44b7-9e78-64005c9e3919",
   "metadata": {},
   "outputs": [
    {
     "data": {
      "text/html": [
       "<div>\n",
       "<style scoped>\n",
       "    .dataframe tbody tr th:only-of-type {\n",
       "        vertical-align: middle;\n",
       "    }\n",
       "\n",
       "    .dataframe tbody tr th {\n",
       "        vertical-align: top;\n",
       "    }\n",
       "\n",
       "    .dataframe thead th {\n",
       "        text-align: right;\n",
       "    }\n",
       "</style>\n",
       "<table border=\"1\" class=\"dataframe\">\n",
       "  <thead>\n",
       "    <tr style=\"text-align: right;\">\n",
       "      <th></th>\n",
       "      <th>BUGGY_CODE</th>\n",
       "      <th>FIXED_CODE</th>\n",
       "    </tr>\n",
       "  </thead>\n",
       "  <tbody>\n",
       "    <tr>\n",
       "      <th>count</th>\n",
       "      <td>357</td>\n",
       "      <td>357</td>\n",
       "    </tr>\n",
       "    <tr>\n",
       "      <th>unique</th>\n",
       "      <td>329</td>\n",
       "      <td>329</td>\n",
       "    </tr>\n",
       "    <tr>\n",
       "      <th>top</th>\n",
       "      <td>const auto source_n = n -&gt; sourceRange ( ) . s...</td>\n",
       "      <td>const auto source_n = n -&gt; sourceRange ( ) . s...</td>\n",
       "    </tr>\n",
       "    <tr>\n",
       "      <th>freq</th>\n",
       "      <td>3</td>\n",
       "      <td>3</td>\n",
       "    </tr>\n",
       "  </tbody>\n",
       "</table>\n",
       "</div>"
      ],
      "text/plain": [
       "                                               BUGGY_CODE  \\\n",
       "count                                                 357   \n",
       "unique                                                329   \n",
       "top     const auto source_n = n -> sourceRange ( ) . s...   \n",
       "freq                                                    3   \n",
       "\n",
       "                                               FIXED_CODE  \n",
       "count                                                 357  \n",
       "unique                                                329  \n",
       "top     const auto source_n = n -> sourceRange ( ) . s...  \n",
       "freq                                                    3  "
      ]
     },
     "execution_count": 204,
     "metadata": {},
     "output_type": "execute_result"
    }
   ],
   "source": [
    "cpp_data.describe()"
   ]
  },
  {
   "cell_type": "code",
   "execution_count": 205,
   "id": "f6b1cee5-498a-47a2-872b-06be98420999",
   "metadata": {},
   "outputs": [
    {
     "data": {
      "text/html": [
       "<div>\n",
       "<style scoped>\n",
       "    .dataframe tbody tr th:only-of-type {\n",
       "        vertical-align: middle;\n",
       "    }\n",
       "\n",
       "    .dataframe tbody tr th {\n",
       "        vertical-align: top;\n",
       "    }\n",
       "\n",
       "    .dataframe thead th {\n",
       "        text-align: right;\n",
       "    }\n",
       "</style>\n",
       "<table border=\"1\" class=\"dataframe\">\n",
       "  <thead>\n",
       "    <tr style=\"text-align: right;\">\n",
       "      <th></th>\n",
       "      <th>BUGGY_CODE</th>\n",
       "      <th>FIXED_CODE</th>\n",
       "    </tr>\n",
       "  </thead>\n",
       "  <tbody>\n",
       "    <tr>\n",
       "      <th>0</th>\n",
       "      <td>def __sizeof__ ( self ) : return super ( _Stor...</td>\n",
       "      <td>def __sizeof__ ( self ) : return ( super ( _St...</td>\n",
       "    </tr>\n",
       "    <tr>\n",
       "      <th>1</th>\n",
       "      <td>self . quant_min : int = quant_min self . quan...</td>\n",
       "      <td>self . quant_min : int = quant_min self . quan...</td>\n",
       "    </tr>\n",
       "    <tr>\n",
       "      <th>2</th>\n",
       "      <td>def get_default_qat_qconfig ( backend = gemm v...</td>\n",
       "      <td>def get_default_qat_qconfig ( backend = gemm v...</td>\n",
       "    </tr>\n",
       "    <tr>\n",
       "      <th>3</th>\n",
       "      <td>exp_avg . mul_ ( beta1 ) . add_ ( grad , alpha...</td>\n",
       "      <td>exp_avg . mul_ ( beta1 ) . add_ ( grad , alpha...</td>\n",
       "    </tr>\n",
       "    <tr>\n",
       "      <th>4</th>\n",
       "      <td>def get_post_build_suffix ( self ) -&gt; str : if...</td>\n",
       "      <td>def get_post_build_suffix ( self ) -&gt; str : if...</td>\n",
       "    </tr>\n",
       "  </tbody>\n",
       "</table>\n",
       "</div>"
      ],
      "text/plain": [
       "                                          BUGGY_CODE  \\\n",
       "0  def __sizeof__ ( self ) : return super ( _Stor...   \n",
       "1  self . quant_min : int = quant_min self . quan...   \n",
       "2  def get_default_qat_qconfig ( backend = gemm v...   \n",
       "3  exp_avg . mul_ ( beta1 ) . add_ ( grad , alpha...   \n",
       "4  def get_post_build_suffix ( self ) -> str : if...   \n",
       "\n",
       "                                          FIXED_CODE  \n",
       "0  def __sizeof__ ( self ) : return ( super ( _St...  \n",
       "1  self . quant_min : int = quant_min self . quan...  \n",
       "2  def get_default_qat_qconfig ( backend = gemm v...  \n",
       "3  exp_avg . mul_ ( beta1 ) . add_ ( grad , alpha...  \n",
       "4  def get_post_build_suffix ( self ) -> str : if...  "
      ]
     },
     "execution_count": 205,
     "metadata": {},
     "output_type": "execute_result"
    }
   ],
   "source": [
    "py_data.head()"
   ]
  },
  {
   "cell_type": "code",
   "execution_count": 206,
   "id": "0d20a07d-ec6e-42ba-a425-cdd733f94f34",
   "metadata": {},
   "outputs": [
    {
     "data": {
      "text/html": [
       "<div>\n",
       "<style scoped>\n",
       "    .dataframe tbody tr th:only-of-type {\n",
       "        vertical-align: middle;\n",
       "    }\n",
       "\n",
       "    .dataframe tbody tr th {\n",
       "        vertical-align: top;\n",
       "    }\n",
       "\n",
       "    .dataframe thead th {\n",
       "        text-align: right;\n",
       "    }\n",
       "</style>\n",
       "<table border=\"1\" class=\"dataframe\">\n",
       "  <thead>\n",
       "    <tr style=\"text-align: right;\">\n",
       "      <th></th>\n",
       "      <th>BUGGY_CODE</th>\n",
       "      <th>FIXED_CODE</th>\n",
       "    </tr>\n",
       "  </thead>\n",
       "  <tbody>\n",
       "    <tr>\n",
       "      <th>count</th>\n",
       "      <td>275</td>\n",
       "      <td>275</td>\n",
       "    </tr>\n",
       "    <tr>\n",
       "      <th>unique</th>\n",
       "      <td>268</td>\n",
       "      <td>268</td>\n",
       "    </tr>\n",
       "    <tr>\n",
       "      <th>top</th>\n",
       "      <td>if it % 100 == 0 : print ( eration % d - - Out...</td>\n",
       "      <td>if it % 100 == 0 : print ( eration % d - - Out...</td>\n",
       "    </tr>\n",
       "    <tr>\n",
       "      <th>freq</th>\n",
       "      <td>3</td>\n",
       "      <td>3</td>\n",
       "    </tr>\n",
       "  </tbody>\n",
       "</table>\n",
       "</div>"
      ],
      "text/plain": [
       "                                               BUGGY_CODE  \\\n",
       "count                                                 275   \n",
       "unique                                                268   \n",
       "top     if it % 100 == 0 : print ( eration % d - - Out...   \n",
       "freq                                                    3   \n",
       "\n",
       "                                               FIXED_CODE  \n",
       "count                                                 275  \n",
       "unique                                                268  \n",
       "top     if it % 100 == 0 : print ( eration % d - - Out...  \n",
       "freq                                                    3  "
      ]
     },
     "execution_count": 206,
     "metadata": {},
     "output_type": "execute_result"
    }
   ],
   "source": [
    "py_data.describe()"
   ]
  },
  {
   "cell_type": "code",
   "execution_count": 207,
   "id": "804d0e91-280a-4b2c-b58b-64d6e5ce8685",
   "metadata": {},
   "outputs": [],
   "source": [
    "from sklearn.model_selection import train_test_split"
   ]
  },
  {
   "cell_type": "code",
   "execution_count": 208,
   "id": "712c7119-0b7e-4b83-85bd-2c25ce992672",
   "metadata": {},
   "outputs": [],
   "source": [
    "cpp_train_buggy, cpp_test_buggy, cpp_train_fixed, cpp_test_fixed = train_test_split(cpp_data['BUGGY_CODE'], cpp_data['FIXED_CODE'], test_size=0.16, random_state=42)"
   ]
  },
  {
   "cell_type": "code",
   "execution_count": 210,
   "id": "ed05102e-922a-44d5-b7a1-5b2f55a52515",
   "metadata": {},
   "outputs": [],
   "source": [
    "py_train_buggy, py_test_buggy, py_train_fixed, py_test_fixed = train_test_split(py_data['BUGGY_CODE'], py_data['FIXED_CODE'], test_size=0.16, random_state=42)"
   ]
  },
  {
   "cell_type": "code",
   "execution_count": 211,
   "id": "281af4c3-9d1c-4c53-b300-4cb2a16a5a0f",
   "metadata": {},
   "outputs": [],
   "source": [
    "py_aug = pd.DataFrame(data={'BUGGY_CODE': [], \"FIXED_CODE\": []})"
   ]
  },
  {
   "cell_type": "code",
   "execution_count": 212,
   "id": "c43b6f8b-68f8-49fc-9897-a2a2632cb885",
   "metadata": {},
   "outputs": [],
   "source": [
    "py_aug_methods = [lambda x,p : x, replace_add_sub, swap_cond_py, swap_comp]"
   ]
  },
  {
   "cell_type": "code",
   "execution_count": 213,
   "id": "4d9fe752-3329-4123-b08c-82b896b0d232",
   "metadata": {},
   "outputs": [],
   "source": [
    "cpp_aug = pd.DataFrame(data={'BUGGY_CODE': [], \"FIXED_CODE\": []})"
   ]
  },
  {
   "cell_type": "code",
   "execution_count": 214,
   "id": "3d9b7f50-69ec-4744-b94c-ac3fd11b016b",
   "metadata": {},
   "outputs": [],
   "source": [
    "cpp_aug_methods = [lambda x,p : x, replace_add_sub, remove_cond_component_cpp, swap_cond_cpp, swap_access, swap_comp]"
   ]
  },
  {
   "cell_type": "code",
   "execution_count": 215,
   "id": "a62ecdd7-e096-42ad-bfa7-24dc3aea9f5c",
   "metadata": {},
   "outputs": [
    {
     "data": {
      "text/html": [
       "<div>\n",
       "<style scoped>\n",
       "    .dataframe tbody tr th:only-of-type {\n",
       "        vertical-align: middle;\n",
       "    }\n",
       "\n",
       "    .dataframe tbody tr th {\n",
       "        vertical-align: top;\n",
       "    }\n",
       "\n",
       "    .dataframe thead th {\n",
       "        text-align: right;\n",
       "    }\n",
       "</style>\n",
       "<table border=\"1\" class=\"dataframe\">\n",
       "  <thead>\n",
       "    <tr style=\"text-align: right;\">\n",
       "      <th></th>\n",
       "      <th>BUGGY_CODE</th>\n",
       "      <th>FIXED_CODE</th>\n",
       "    </tr>\n",
       "  </thead>\n",
       "  <tbody>\n",
       "  </tbody>\n",
       "</table>\n",
       "</div>"
      ],
      "text/plain": [
       "Empty DataFrame\n",
       "Columns: [BUGGY_CODE, FIXED_CODE]\n",
       "Index: []"
      ]
     },
     "execution_count": 215,
     "metadata": {},
     "output_type": "execute_result"
    }
   ],
   "source": [
    "py_aug.head()"
   ]
  },
  {
   "cell_type": "code",
   "execution_count": 216,
   "id": "d60b271d-13bd-4009-8c53-50f1e13a2a8e",
   "metadata": {},
   "outputs": [
    {
     "data": {
      "text/html": [
       "<div>\n",
       "<style scoped>\n",
       "    .dataframe tbody tr th:only-of-type {\n",
       "        vertical-align: middle;\n",
       "    }\n",
       "\n",
       "    .dataframe tbody tr th {\n",
       "        vertical-align: top;\n",
       "    }\n",
       "\n",
       "    .dataframe thead th {\n",
       "        text-align: right;\n",
       "    }\n",
       "</style>\n",
       "<table border=\"1\" class=\"dataframe\">\n",
       "  <thead>\n",
       "    <tr style=\"text-align: right;\">\n",
       "      <th></th>\n",
       "      <th>BUGGY_CODE</th>\n",
       "      <th>FIXED_CODE</th>\n",
       "    </tr>\n",
       "  </thead>\n",
       "  <tbody>\n",
       "  </tbody>\n",
       "</table>\n",
       "</div>"
      ],
      "text/plain": [
       "Empty DataFrame\n",
       "Columns: [BUGGY_CODE, FIXED_CODE]\n",
       "Index: []"
      ]
     },
     "execution_count": 216,
     "metadata": {},
     "output_type": "execute_result"
    }
   ],
   "source": [
    "cpp_aug.head()"
   ]
  },
  {
   "cell_type": "code",
   "execution_count": 217,
   "id": "6b3bddce-a92b-4345-b8c4-8922eb0d8f30",
   "metadata": {},
   "outputs": [],
   "source": [
    "cpp_train_buggy, cpp_val_buggy, cpp_train_fixed, cpp_val_fixed = train_test_split(cpp_train_buggy, cpp_train_fixed, test_size=0.1, random_state=42)"
   ]
  },
  {
   "cell_type": "code",
   "execution_count": 218,
   "id": "9bf81c7e-2cd5-460a-a846-7f8f66bfd2e8",
   "metadata": {},
   "outputs": [],
   "source": [
    "py_train_buggy, py_val_buggy, py_train_fixed, py_val_fixed = train_test_split(py_train_buggy, py_train_fixed, test_size=0.1, random_state=42)"
   ]
  },
  {
   "cell_type": "code",
   "execution_count": 219,
   "id": "9fb75b1c-a557-48e4-8845-0076c8c8b64e",
   "metadata": {},
   "outputs": [],
   "source": [
    "py_data_len = py_train_buggy.shape[0]\n",
    "cpp_data_len = cpp_train_buggy.shape[0]"
   ]
  },
  {
   "cell_type": "code",
   "execution_count": 220,
   "id": "3fd98984-b8b4-4e77-ad2f-d6f4c08f9f4d",
   "metadata": {},
   "outputs": [
    {
     "data": {
      "text/plain": [
       "207"
      ]
     },
     "execution_count": 220,
     "metadata": {},
     "output_type": "execute_result"
    }
   ],
   "source": [
    "py_data_len"
   ]
  },
  {
   "cell_type": "code",
   "execution_count": 221,
   "id": "7e774cc4-be01-4702-902a-0eceec342783",
   "metadata": {},
   "outputs": [
    {
     "data": {
      "text/plain": [
       "269"
      ]
     },
     "execution_count": 221,
     "metadata": {},
     "output_type": "execute_result"
    }
   ],
   "source": [
    "cpp_data_len"
   ]
  },
  {
   "cell_type": "code",
   "execution_count": 222,
   "id": "ccf2ffdd-8114-4f95-8b62-4d8218fd3607",
   "metadata": {},
   "outputs": [
    {
     "data": {
      "text/plain": [
       "58"
      ]
     },
     "execution_count": 222,
     "metadata": {},
     "output_type": "execute_result"
    }
   ],
   "source": [
    "len(cpp_test_buggy)"
   ]
  },
  {
   "cell_type": "code",
   "execution_count": 223,
   "id": "adbb9b07-808e-4de3-b9a2-8999ea79bf62",
   "metadata": {},
   "outputs": [
    {
     "data": {
      "text/plain": [
       "44"
      ]
     },
     "execution_count": 223,
     "metadata": {},
     "output_type": "execute_result"
    }
   ],
   "source": [
    "len(py_test_buggy)"
   ]
  },
  {
   "cell_type": "code",
   "execution_count": 224,
   "id": "0f694be9-3a05-4129-9c98-9d4b44a4e8c6",
   "metadata": {},
   "outputs": [],
   "source": [
    "for i in range(py_data_len):\n",
    "    buggy_code = py_train_buggy.iloc[i]\n",
    "    fixed_code = py_train_fixed.iloc[i]\n",
    "    py_aug.loc[len(py_aug.index)] = [buggy_code, fixed_code]\n",
    "    for f in py_aug_methods:\n",
    "        transformed = f(buggy_code, 0.2)\n",
    "        transformed = randomlyCorrupt(transformed, 0.15)\n",
    "        py_aug.loc[len(py_aug.index)] = [transformed, fixed_code]"
   ]
  },
  {
   "cell_type": "code",
   "execution_count": 225,
   "id": "f3b44b78-cc7c-44fa-84ce-1d20c4112da8",
   "metadata": {},
   "outputs": [
    {
     "data": {
      "text/html": [
       "<div>\n",
       "<style scoped>\n",
       "    .dataframe tbody tr th:only-of-type {\n",
       "        vertical-align: middle;\n",
       "    }\n",
       "\n",
       "    .dataframe tbody tr th {\n",
       "        vertical-align: top;\n",
       "    }\n",
       "\n",
       "    .dataframe thead th {\n",
       "        text-align: right;\n",
       "    }\n",
       "</style>\n",
       "<table border=\"1\" class=\"dataframe\">\n",
       "  <thead>\n",
       "    <tr style=\"text-align: right;\">\n",
       "      <th></th>\n",
       "      <th>BUGGY_CODE</th>\n",
       "      <th>FIXED_CODE</th>\n",
       "    </tr>\n",
       "  </thead>\n",
       "  <tbody>\n",
       "    <tr>\n",
       "      <th>0</th>\n",
       "      <td>if len ( buffers ) &gt; 0 : raise RuntimeError ( ...</td>\n",
       "      <td>if len ( buffers ) &gt; 0 : raise RuntimeError ( ...</td>\n",
       "    </tr>\n",
       "    <tr>\n",
       "      <th>1</th>\n",
       "      <td>if len ( buffers ) &gt; 0 : raise RuntimeError ( ...</td>\n",
       "      <td>if len ( buffers ) &gt; 0 : raise RuntimeError ( ...</td>\n",
       "    </tr>\n",
       "    <tr>\n",
       "      <th>2</th>\n",
       "      <td>if len ( buffers ) &gt; 0 : raise RuntimeError ( ...</td>\n",
       "      <td>if len ( buffers ) &gt; 0 : raise RuntimeError ( ...</td>\n",
       "    </tr>\n",
       "    <tr>\n",
       "      <th>3</th>\n",
       "      <td>if len ( buffers ) &gt; 0 : raise RuntimeError ( ...</td>\n",
       "      <td>if len ( buffers ) &gt; 0 : raise RuntimeError ( ...</td>\n",
       "    </tr>\n",
       "    <tr>\n",
       "      <th>4</th>\n",
       "      <td>if len ( buffers ) &gt; 0 : raise RuntimeError ( ...</td>\n",
       "      <td>if len ( buffers ) &gt; 0 : raise RuntimeError ( ...</td>\n",
       "    </tr>\n",
       "  </tbody>\n",
       "</table>\n",
       "</div>"
      ],
      "text/plain": [
       "                                          BUGGY_CODE  \\\n",
       "0  if len ( buffers ) > 0 : raise RuntimeError ( ...   \n",
       "1  if len ( buffers ) > 0 : raise RuntimeError ( ...   \n",
       "2  if len ( buffers ) > 0 : raise RuntimeError ( ...   \n",
       "3  if len ( buffers ) > 0 : raise RuntimeError ( ...   \n",
       "4  if len ( buffers ) > 0 : raise RuntimeError ( ...   \n",
       "\n",
       "                                          FIXED_CODE  \n",
       "0  if len ( buffers ) > 0 : raise RuntimeError ( ...  \n",
       "1  if len ( buffers ) > 0 : raise RuntimeError ( ...  \n",
       "2  if len ( buffers ) > 0 : raise RuntimeError ( ...  \n",
       "3  if len ( buffers ) > 0 : raise RuntimeError ( ...  \n",
       "4  if len ( buffers ) > 0 : raise RuntimeError ( ...  "
      ]
     },
     "execution_count": 225,
     "metadata": {},
     "output_type": "execute_result"
    }
   ],
   "source": [
    "py_aug.head()"
   ]
  },
  {
   "cell_type": "code",
   "execution_count": 226,
   "id": "26285cfc-e77e-45f6-b455-d6140d805f0d",
   "metadata": {},
   "outputs": [],
   "source": [
    "py_aug.drop_duplicates(subset=['BUGGY_CODE'], keep='first', inplace=True)"
   ]
  },
  {
   "cell_type": "code",
   "execution_count": 227,
   "id": "223f2127-5c12-4ba0-ae1b-e9ff6c682664",
   "metadata": {},
   "outputs": [
    {
     "data": {
      "text/html": [
       "<div>\n",
       "<style scoped>\n",
       "    .dataframe tbody tr th:only-of-type {\n",
       "        vertical-align: middle;\n",
       "    }\n",
       "\n",
       "    .dataframe tbody tr th {\n",
       "        vertical-align: top;\n",
       "    }\n",
       "\n",
       "    .dataframe thead th {\n",
       "        text-align: right;\n",
       "    }\n",
       "</style>\n",
       "<table border=\"1\" class=\"dataframe\">\n",
       "  <thead>\n",
       "    <tr style=\"text-align: right;\">\n",
       "      <th></th>\n",
       "      <th>BUGGY_CODE</th>\n",
       "      <th>FIXED_CODE</th>\n",
       "    </tr>\n",
       "  </thead>\n",
       "  <tbody>\n",
       "    <tr>\n",
       "      <th>count</th>\n",
       "      <td>506</td>\n",
       "      <td>506</td>\n",
       "    </tr>\n",
       "    <tr>\n",
       "      <th>unique</th>\n",
       "      <td>506</td>\n",
       "      <td>203</td>\n",
       "    </tr>\n",
       "    <tr>\n",
       "      <th>top</th>\n",
       "      <td>if len ( buffers ) &gt; 0 : raise RuntimeError ( ...</td>\n",
       "      <td>prev_node = get_normalized_nth_input ( node , ...</td>\n",
       "    </tr>\n",
       "    <tr>\n",
       "      <th>freq</th>\n",
       "      <td>1</td>\n",
       "      <td>5</td>\n",
       "    </tr>\n",
       "  </tbody>\n",
       "</table>\n",
       "</div>"
      ],
      "text/plain": [
       "                                               BUGGY_CODE  \\\n",
       "count                                                 506   \n",
       "unique                                                506   \n",
       "top     if len ( buffers ) > 0 : raise RuntimeError ( ...   \n",
       "freq                                                    1   \n",
       "\n",
       "                                               FIXED_CODE  \n",
       "count                                                 506  \n",
       "unique                                                203  \n",
       "top     prev_node = get_normalized_nth_input ( node , ...  \n",
       "freq                                                    5  "
      ]
     },
     "execution_count": 227,
     "metadata": {},
     "output_type": "execute_result"
    }
   ],
   "source": [
    "py_aug.describe()"
   ]
  },
  {
   "cell_type": "code",
   "execution_count": 228,
   "id": "506e67bd-041c-4f04-a5f2-7652769f3e81",
   "metadata": {},
   "outputs": [],
   "source": [
    "for i in range(cpp_data_len):\n",
    "    buggy_code = cpp_train_buggy.iloc[i]\n",
    "    fixed_code = cpp_train_fixed.iloc[i]\n",
    "    cpp_aug.loc[len(cpp_aug.index)] = [buggy_code, fixed_code]\n",
    "    for f in cpp_aug_methods:\n",
    "        transformed = f(buggy_code, 0.2)\n",
    "        transformed = randomlyCorrupt(transformed, 0.15)\n",
    "        cpp_aug.loc[len(cpp_aug.index)] = [transformed, fixed_code]"
   ]
  },
  {
   "cell_type": "code",
   "execution_count": 229,
   "id": "916d46ee-3ae5-4802-aa09-8a3951a6fb35",
   "metadata": {},
   "outputs": [],
   "source": [
    "cpp_aug.drop_duplicates(subset=['BUGGY_CODE'], keep='first', inplace=True)"
   ]
  },
  {
   "cell_type": "code",
   "execution_count": 230,
   "id": "f03eb5ce-afde-4512-ab25-ed4ea4303961",
   "metadata": {},
   "outputs": [
    {
     "data": {
      "text/html": [
       "<div>\n",
       "<style scoped>\n",
       "    .dataframe tbody tr th:only-of-type {\n",
       "        vertical-align: middle;\n",
       "    }\n",
       "\n",
       "    .dataframe tbody tr th {\n",
       "        vertical-align: top;\n",
       "    }\n",
       "\n",
       "    .dataframe thead th {\n",
       "        text-align: right;\n",
       "    }\n",
       "</style>\n",
       "<table border=\"1\" class=\"dataframe\">\n",
       "  <thead>\n",
       "    <tr style=\"text-align: right;\">\n",
       "      <th></th>\n",
       "      <th>BUGGY_CODE</th>\n",
       "      <th>FIXED_CODE</th>\n",
       "    </tr>\n",
       "  </thead>\n",
       "  <tbody>\n",
       "    <tr>\n",
       "      <th>count</th>\n",
       "      <td>842</td>\n",
       "      <td>842</td>\n",
       "    </tr>\n",
       "    <tr>\n",
       "      <th>unique</th>\n",
       "      <td>842</td>\n",
       "      <td>257</td>\n",
       "    </tr>\n",
       "    <tr>\n",
       "      <th>top</th>\n",
       "      <td>if ( y::is_none ( size ) ) { d -&gt; set_size ( p...</td>\n",
       "      <td>std::map &lt; ParallelType , bool &gt; ParallelTypeB...</td>\n",
       "    </tr>\n",
       "    <tr>\n",
       "      <th>freq</th>\n",
       "      <td>1</td>\n",
       "      <td>7</td>\n",
       "    </tr>\n",
       "  </tbody>\n",
       "</table>\n",
       "</div>"
      ],
      "text/plain": [
       "                                               BUGGY_CODE  \\\n",
       "count                                                 842   \n",
       "unique                                                842   \n",
       "top     if ( y::is_none ( size ) ) { d -> set_size ( p...   \n",
       "freq                                                    1   \n",
       "\n",
       "                                               FIXED_CODE  \n",
       "count                                                 842  \n",
       "unique                                                257  \n",
       "top     std::map < ParallelType , bool > ParallelTypeB...  \n",
       "freq                                                    7  "
      ]
     },
     "execution_count": 230,
     "metadata": {},
     "output_type": "execute_result"
    }
   ],
   "source": [
    "cpp_aug.describe()"
   ]
  },
  {
   "cell_type": "markdown",
   "id": "bfbfbd3b-ca44-461b-93b0-468ae77cbf7b",
   "metadata": {},
   "source": [
    "### 保存增强之后的训练集 (还未划分出验证集) "
   ]
  },
  {
   "cell_type": "code",
   "execution_count": 231,
   "id": "012908e1-698a-4a64-9103-efbb86fe47a0",
   "metadata": {},
   "outputs": [],
   "source": [
    "py_aug.to_csv('../data/py/dl_py_aug.csv', index=False)"
   ]
  },
  {
   "cell_type": "code",
   "execution_count": 232,
   "id": "a453e382-e1dd-45dd-9abb-9a3f878e0dbe",
   "metadata": {},
   "outputs": [],
   "source": [
    "cpp_aug.to_csv('../data/cpp/dl_cpp_aug.csv', index=False)"
   ]
  },
  {
   "cell_type": "markdown",
   "id": "9e9d8c95-e75e-4410-ae0e-9d6eae0353b1",
   "metadata": {},
   "source": [
    "### 保存测试集"
   ]
  },
  {
   "cell_type": "code",
   "execution_count": 233,
   "id": "8431598a-aadb-4624-871d-8f440e62ce6b",
   "metadata": {},
   "outputs": [],
   "source": [
    "cpp_test = pd.DataFrame(data={'BUGGY_CODE': cpp_test_buggy, 'FIXED_CODE': cpp_test_fixed})"
   ]
  },
  {
   "cell_type": "code",
   "execution_count": 234,
   "id": "03e38797-c29a-4dcc-9026-332bedf2cefe",
   "metadata": {},
   "outputs": [
    {
     "data": {
      "text/html": [
       "<div>\n",
       "<style scoped>\n",
       "    .dataframe tbody tr th:only-of-type {\n",
       "        vertical-align: middle;\n",
       "    }\n",
       "\n",
       "    .dataframe tbody tr th {\n",
       "        vertical-align: top;\n",
       "    }\n",
       "\n",
       "    .dataframe thead th {\n",
       "        text-align: right;\n",
       "    }\n",
       "</style>\n",
       "<table border=\"1\" class=\"dataframe\">\n",
       "  <thead>\n",
       "    <tr style=\"text-align: right;\">\n",
       "      <th></th>\n",
       "      <th>BUGGY_CODE</th>\n",
       "      <th>FIXED_CODE</th>\n",
       "    </tr>\n",
       "  </thead>\n",
       "  <tbody>\n",
       "    <tr>\n",
       "      <th>count</th>\n",
       "      <td>58</td>\n",
       "      <td>58</td>\n",
       "    </tr>\n",
       "    <tr>\n",
       "      <th>unique</th>\n",
       "      <td>56</td>\n",
       "      <td>56</td>\n",
       "    </tr>\n",
       "    <tr>\n",
       "      <th>top</th>\n",
       "      <td>if ( bag_size . defined ( ) ) { bag_size_data ...</td>\n",
       "      <td>if ( bag_size . defined ( ) ) { bag_size_data ...</td>\n",
       "    </tr>\n",
       "    <tr>\n",
       "      <th>freq</th>\n",
       "      <td>2</td>\n",
       "      <td>2</td>\n",
       "    </tr>\n",
       "  </tbody>\n",
       "</table>\n",
       "</div>"
      ],
      "text/plain": [
       "                                               BUGGY_CODE  \\\n",
       "count                                                  58   \n",
       "unique                                                 56   \n",
       "top     if ( bag_size . defined ( ) ) { bag_size_data ...   \n",
       "freq                                                    2   \n",
       "\n",
       "                                               FIXED_CODE  \n",
       "count                                                  58  \n",
       "unique                                                 56  \n",
       "top     if ( bag_size . defined ( ) ) { bag_size_data ...  \n",
       "freq                                                    2  "
      ]
     },
     "execution_count": 234,
     "metadata": {},
     "output_type": "execute_result"
    }
   ],
   "source": [
    "cpp_test.describe()"
   ]
  },
  {
   "cell_type": "code",
   "execution_count": 235,
   "id": "728eaf98-464e-4f7b-b5a4-ad8400577e17",
   "metadata": {},
   "outputs": [],
   "source": [
    "py_test = pd.DataFrame(data={'BUGGY_CODE': py_test_buggy, 'FIXED_CODE': py_test_fixed})"
   ]
  },
  {
   "cell_type": "code",
   "execution_count": 236,
   "id": "6ccc461c-4ae7-420c-9e04-2667bc72102c",
   "metadata": {},
   "outputs": [
    {
     "data": {
      "text/html": [
       "<div>\n",
       "<style scoped>\n",
       "    .dataframe tbody tr th:only-of-type {\n",
       "        vertical-align: middle;\n",
       "    }\n",
       "\n",
       "    .dataframe tbody tr th {\n",
       "        vertical-align: top;\n",
       "    }\n",
       "\n",
       "    .dataframe thead th {\n",
       "        text-align: right;\n",
       "    }\n",
       "</style>\n",
       "<table border=\"1\" class=\"dataframe\">\n",
       "  <thead>\n",
       "    <tr style=\"text-align: right;\">\n",
       "      <th></th>\n",
       "      <th>BUGGY_CODE</th>\n",
       "      <th>FIXED_CODE</th>\n",
       "    </tr>\n",
       "  </thead>\n",
       "  <tbody>\n",
       "    <tr>\n",
       "      <th>count</th>\n",
       "      <td>44</td>\n",
       "      <td>44</td>\n",
       "    </tr>\n",
       "    <tr>\n",
       "      <th>unique</th>\n",
       "      <td>44</td>\n",
       "      <td>44</td>\n",
       "    </tr>\n",
       "    <tr>\n",
       "      <th>top</th>\n",
       "      <td>def icdf ( self , value ) : if self . _validat...</td>\n",
       "      <td>def icdf ( self , value ) : return torch . tan...</td>\n",
       "    </tr>\n",
       "    <tr>\n",
       "      <th>freq</th>\n",
       "      <td>1</td>\n",
       "      <td>1</td>\n",
       "    </tr>\n",
       "  </tbody>\n",
       "</table>\n",
       "</div>"
      ],
      "text/plain": [
       "                                               BUGGY_CODE  \\\n",
       "count                                                  44   \n",
       "unique                                                 44   \n",
       "top     def icdf ( self , value ) : if self . _validat...   \n",
       "freq                                                    1   \n",
       "\n",
       "                                               FIXED_CODE  \n",
       "count                                                  44  \n",
       "unique                                                 44  \n",
       "top     def icdf ( self , value ) : return torch . tan...  \n",
       "freq                                                    1  "
      ]
     },
     "execution_count": 236,
     "metadata": {},
     "output_type": "execute_result"
    }
   ],
   "source": [
    "py_test.describe()"
   ]
  },
  {
   "cell_type": "code",
   "execution_count": 237,
   "id": "bdb000ad-34d8-44e2-a08b-06b5db7fa0f5",
   "metadata": {},
   "outputs": [],
   "source": [
    "cpp_test.to_csv('../data/cpp/dl_cpp_test.csv', index=False)"
   ]
  },
  {
   "cell_type": "code",
   "execution_count": 238,
   "id": "06cbf64a-2ea0-4ed7-b458-1613eac2fcc9",
   "metadata": {},
   "outputs": [],
   "source": [
    "py_test.to_csv('../data/py/dl_py_test.csv', index=False)"
   ]
  },
  {
   "cell_type": "markdown",
   "id": "6761fc00-3211-417a-a776-c2642fbb3ab0",
   "metadata": {},
   "source": [
    "### 保存验证集"
   ]
  },
  {
   "cell_type": "code",
   "execution_count": 239,
   "id": "014ca574-eeef-4ac7-a919-1ef89b3d2225",
   "metadata": {},
   "outputs": [],
   "source": [
    "py_val = pd.DataFrame(data={\"BUGGY_CODE\": py_val_buggy, \"FIXED_CODE\": py_val_fixed})"
   ]
  },
  {
   "cell_type": "code",
   "execution_count": 240,
   "id": "fce2eda2-4077-466e-9bc1-9f6613f9dd56",
   "metadata": {},
   "outputs": [],
   "source": [
    "cpp_val = pd.DataFrame(data={\"BUGGY_CODE\": cpp_val_buggy, \"FIXED_CODE\": cpp_val_fixed})"
   ]
  },
  {
   "cell_type": "code",
   "execution_count": 241,
   "id": "f5efa368-0bb9-4058-b399-eaa45391a0e0",
   "metadata": {},
   "outputs": [],
   "source": [
    "py_val.to_csv('../data/py/dl_py_val.csv', index=False)"
   ]
  },
  {
   "cell_type": "code",
   "execution_count": 242,
   "id": "b44a4faa-84cf-4936-859b-1c1c6e385df2",
   "metadata": {},
   "outputs": [],
   "source": [
    "cpp_val.to_csv('../data/cpp/dl_cpp_val.csv', index=False)"
   ]
  },
  {
   "cell_type": "markdown",
   "id": "fc8d9d25-909b-4625-80b8-11ecd7a47d4c",
   "metadata": {},
   "source": [
    "### Done"
   ]
  }
 ],
 "metadata": {
  "kernelspec": {
   "display_name": "Python 3 (ipykernel)",
   "language": "python",
   "name": "python3"
  },
  "language_info": {
   "codemirror_mode": {
    "name": "ipython",
    "version": 3
   },
   "file_extension": ".py",
   "mimetype": "text/x-python",
   "name": "python",
   "nbconvert_exporter": "python",
   "pygments_lexer": "ipython3",
   "version": "3.8.10"
  }
 },
 "nbformat": 4,
 "nbformat_minor": 5
}
