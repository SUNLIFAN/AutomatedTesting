{
 "cells": [
  {
   "cell_type": "markdown",
   "id": "2bbb26a4-d63c-42b7-b8e9-33ec12547e9b",
   "metadata": {},
   "source": [
    "# 数据增强方法 Demo"
   ]
  },
  {
   "cell_type": "markdown",
   "id": "e28ff9dc-3278-4b02-a4e1-83f51dee0ed6",
   "metadata": {},
   "source": [
    "由于有效的数据量十分有限，为了能够获得更好的训练效果，同时留出一定量的数据来对模型进行评估，我们设计了一些数据增强方法，以获取更多数据，这些方法部分借鉴了文本增强方法中常用的思想。"
   ]
  },
  {
   "cell_type": "code",
   "execution_count": null,
   "id": "c7080e0a-fb0a-4fad-b26f-426bb9c97fde",
   "metadata": {},
   "outputs": [],
   "source": []
  }
 ],
 "metadata": {
  "kernelspec": {
   "display_name": "Python 3 (ipykernel)",
   "language": "python",
   "name": "python3"
  },
  "language_info": {
   "codemirror_mode": {
    "name": "ipython",
    "version": 3
   },
   "file_extension": ".py",
   "mimetype": "text/x-python",
   "name": "python",
   "nbconvert_exporter": "python",
   "pygments_lexer": "ipython3",
   "version": "3.8.10"
  }
 },
 "nbformat": 4,
 "nbformat_minor": 5
}
