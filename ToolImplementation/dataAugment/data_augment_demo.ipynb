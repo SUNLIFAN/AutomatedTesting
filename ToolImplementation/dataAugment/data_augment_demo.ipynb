{
 "cells": [
  {
   "cell_type": "markdown",
   "id": "2bbb26a4-d63c-42b7-b8e9-33ec12547e9b",
   "metadata": {},
   "source": [
    "# 数据增强方法 Demo"
   ]
  },
  {
   "cell_type": "markdown",
   "id": "e28ff9dc-3278-4b02-a4e1-83f51dee0ed6",
   "metadata": {},
   "source": [
    "由于有效的数据量十分有限，为了能够获得更好的训练效果，同时留出一定量的数据来对模型进行评估，我们设计了一些数据增强方法，以获取更多数据，这些方法部分借鉴了文本增强方法中常用的思想。"
   ]
  },
  {
   "cell_type": "markdown",
   "id": "74747e2a-0c40-4a01-9b7e-faac98b6a7e6",
   "metadata": {},
   "source": [
    "## 1. 针对算数运算的增强"
   ]
  },
  {
   "cell_type": "markdown",
   "id": "333c89cd-170c-4b5e-bf28-46109e891163",
   "metadata": {},
   "source": [
    "对于所有的加/减法, 以 p 概率换为减/加法"
   ]
  },
  {
   "cell_type": "code",
   "execution_count": 2,
   "id": "9e5fae2a-3653-4d32-8f6b-b620be8a3c04",
   "metadata": {},
   "outputs": [],
   "source": [
    "import random"
   ]
  },
  {
   "cell_type": "code",
   "execution_count": 6,
   "id": "f56979b9-67d9-4f7b-b9d4-3e0f10f43631",
   "metadata": {},
   "outputs": [],
   "source": [
    "def replace_add_sub(code_snippet, p):\n",
    "    tokens = re.split('\\s+', code_snippet)\n",
    "    replaced = ''\n",
    "    for token in tokens:\n",
    "        q = random.random()\n",
    "        if token == '+' and q <= p:\n",
    "            replaced += '- '\n",
    "        elif token == '-' and q <= p:\n",
    "            replaced += '+ '\n",
    "        else:\n",
    "            replaced += (token + ' ')\n",
    "    return replaced"
   ]
  },
  {
   "cell_type": "code",
   "execution_count": 8,
   "id": "37cfc696-f1f0-4eeb-8464-9a227ef16c84",
   "metadata": {},
   "outputs": [],
   "source": [
    "text = r\"\"\"\n",
    "def add_sub(a, b):\n",
    "    c = a + b\n",
    "    d = c - a\n",
    "    b = a * c + b\n",
    "    e = b + a - c * d - q\n",
    "    return e - b + d + a - c\n",
    "\"\"\""
   ]
  },
  {
   "cell_type": "code",
   "execution_count": 11,
   "id": "4ce0d5f9-0c88-4687-b9d9-6320b0c5ecf9",
   "metadata": {},
   "outputs": [
    {
     "data": {
      "text/plain": [
       "' def add_sub(a, b): c = a + b d = c - a b = a * c + b e = b + a - c * d - q return e - b - d + a - c  '"
      ]
     },
     "execution_count": 11,
     "metadata": {},
     "output_type": "execute_result"
    }
   ],
   "source": [
    "replace_add_sub(text, 0.1)"
   ]
  },
  {
   "cell_type": "markdown",
   "id": "4650066d-adb2-467a-9d1c-2e13fa55b341",
   "metadata": {},
   "source": [
    "## 2. 针对逻辑运算的数据增强"
   ]
  },
  {
   "cell_type": "markdown",
   "id": "ac38a971-1d8f-4a60-94e4-cb93d33b5c06",
   "metadata": {},
   "source": [
    "### 2.1 以概率 p 删去某个条件分量"
   ]
  },
  {
   "cell_type": "code",
   "execution_count": 31,
   "id": "61e828c0-5275-47f9-bc0e-c9883ed8b023",
   "metadata": {},
   "outputs": [],
   "source": [
    "def remove_cond_component_cpp(code_snippet, p):\n",
    "    tokens = re.split('\\s+', code_snippet)\n",
    "    len_in_tokens = len(tokens)\n",
    "    res = ''\n",
    "    i = 0\n",
    "    while i < len_in_tokens:\n",
    "        q = random.random()\n",
    "        if (tokens[i] == '&&' or tokens[i] == '||') and q <= p:\n",
    "            while i < len_in_tokens and tokens[i] != ')':\n",
    "                i += 1\n",
    "        res += (tokens[i] + ' ')\n",
    "        i += 1\n",
    "    return res        "
   ]
  },
  {
   "cell_type": "code",
   "execution_count": 56,
   "id": "87254930-b00f-434c-be6a-2b66b3af69e1",
   "metadata": {},
   "outputs": [],
   "source": [
    "text = r\"\"\"\n",
    "if ( rank_ == 0 || ( commType != NCCLCommType::COLL && p2pRank == 0 ) ) { C10D_NCCL_CHECK ( ncclGetUniqueId ( & ncclID ) ) ; }\n",
    "\"\"\""
   ]
  },
  {
   "cell_type": "code",
   "execution_count": 57,
   "id": "f5df5d07-0306-419e-b544-95950b24e61e",
   "metadata": {},
   "outputs": [
    {
     "data": {
      "text/plain": [
       "' if ( rank_ == 0 || ( commType != NCCLCommType::COLL ) ) { C10D_NCCL_CHECK ( ncclGetUniqueId ( & ncclID ) ) ; }  '"
      ]
     },
     "execution_count": 57,
     "metadata": {},
     "output_type": "execute_result"
    }
   ],
   "source": [
    "remove_cond_component_cpp(text, 0.2)"
   ]
  },
  {
   "cell_type": "markdown",
   "id": "5730fbd1-43ec-44a4-bb6a-d2c610d7db50",
   "metadata": {},
   "source": [
    "### 2.2 以概率 p 把每个 || 和 && 互换"
   ]
  },
  {
   "cell_type": "code",
   "execution_count": 41,
   "id": "3143c7ee-f094-43a9-9b35-2390a36f1917",
   "metadata": {},
   "outputs": [],
   "source": [
    "def swap_cond_cpp(code_snippet, p):\n",
    "    tokens = re.split('\\s+', code_snippet)\n",
    "    res = ''\n",
    "    for token in tokens:\n",
    "        q = random.random()\n",
    "        if token == '&&' and q <= p:\n",
    "            res += '|| '\n",
    "        elif token == '||' and q <= p:\n",
    "            res += '&& '\n",
    "        else:\n",
    "            res += token\n",
    "            res += ' '\n",
    "    return res\n",
    "    "
   ]
  },
  {
   "cell_type": "code",
   "execution_count": 60,
   "id": "12874599-f8e0-4919-8165-0233279419b7",
   "metadata": {},
   "outputs": [],
   "source": [
    "def swap_cond_py(code_snippet, p):\n",
    "    tokens = re.split('\\s+', code_snippet)\n",
    "    res = ''\n",
    "    for token in tokens:\n",
    "        q = random.random()\n",
    "        if token == 'and' and q <= p:\n",
    "            res += 'or '\n",
    "        elif token == 'or' and q <= p:\n",
    "            res += 'and '\n",
    "        else:\n",
    "            res += token\n",
    "            res += ' '\n",
    "    return res\n",
    "    "
   ]
  },
  {
   "cell_type": "code",
   "execution_count": 42,
   "id": "e25d74ee-14ed-4193-9366-55134b1ca60f",
   "metadata": {},
   "outputs": [],
   "source": [
    "text = r\"\"\"\n",
    "if ( rank_ == 0 || ( commType != NCCLCommType::COLL && p2pRank == 0 ) ) { C10D_NCCL_CHECK ( ncclGetUniqueId ( & ncclID ) ) ; }\n",
    "\"\"\""
   ]
  },
  {
   "cell_type": "code",
   "execution_count": 43,
   "id": "8a3dfd45-552b-4e1a-ac51-b2e858bbd034",
   "metadata": {},
   "outputs": [
    {
     "data": {
      "text/plain": [
       "' if ( rank_ == 0 || ( commType != NCCLCommType::COLL || p2pRank == 0 ) ) { C10D_NCCL_CHECK ( ncclGetUniqueId ( & ncclID ) ) ; }  '"
      ]
     },
     "execution_count": 43,
     "metadata": {},
     "output_type": "execute_result"
    }
   ],
   "source": [
    "swap_cond_cpp(text, 0.2)"
   ]
  },
  {
   "cell_type": "code",
   "execution_count": 65,
   "id": "d8c3da62-e0b7-46f6-8443-e161131bf629",
   "metadata": {},
   "outputs": [],
   "source": [
    "text = r\"\"\"\n",
    "if a and b or c or d and e or f:\n",
    "    i += 1\n",
    "\"\"\""
   ]
  },
  {
   "cell_type": "code",
   "execution_count": 66,
   "id": "6d829cfd-004c-4105-9dec-3958e5da162c",
   "metadata": {},
   "outputs": [
    {
     "data": {
      "text/plain": [
       "' if a and b and c or d and e or f: i += 1  '"
      ]
     },
     "execution_count": 66,
     "metadata": {},
     "output_type": "execute_result"
    }
   ],
   "source": [
    "swap_cond_py(text, 0.3)"
   ]
  },
  {
   "cell_type": "markdown",
   "id": "949391e3-e7e1-49e8-9476-e359708acb74",
   "metadata": {},
   "source": [
    "## 3. 针对对象访问的增强"
   ]
  },
  {
   "cell_type": "markdown",
   "id": "c957aa3b-4a3b-4a56-9256-a61dd6c0be48",
   "metadata": {},
   "source": [
    "对于所有的 . 和 ->, 以 p 概率换成 -> 或者 ."
   ]
  },
  {
   "cell_type": "code",
   "execution_count": 67,
   "id": "6f5fafa7-2e00-4187-8620-8870f1805f09",
   "metadata": {},
   "outputs": [],
   "source": [
    "def swap_access(code_snippet, p):\n",
    "    tokens = re.split('\\s+', code_snippet)\n",
    "    res = ''\n",
    "    for token in tokens:\n",
    "        q = random.random()\n",
    "        if token == '->' and q <= p:\n",
    "            res += '. '\n",
    "        elif token == '.' and q <= p:\n",
    "            res += '-> '\n",
    "        else:\n",
    "            res += token\n",
    "            res += ' '\n",
    "    return res"
   ]
  },
  {
   "cell_type": "code",
   "execution_count": 81,
   "id": "5b033623-1ff3-4057-aee0-d7ef7f3cfb79",
   "metadata": {},
   "outputs": [],
   "source": [
    "text = r\"\"\"\n",
    "if ( check_has_torch_function ( self ) ) { return handle_torch_function_setter ( ( THPVariable * ) self , \"\"names\"\" , names ) ; } auto & var = ( ( THPVariable * ) self ) -> cdata ;\n",
    "\"\"\""
   ]
  },
  {
   "cell_type": "code",
   "execution_count": 82,
   "id": "1a478e44-31c5-4566-bae7-a726fa301e4e",
   "metadata": {},
   "outputs": [
    {
     "data": {
      "text/plain": [
       "' if ( check_has_torch_function ( self ) ) { return handle_torch_function_setter ( ( THPVariable * ) self , \"\"names\"\" , names ) ; } auto & var = ( ( THPVariable * ) self ) . cdata ;  '"
      ]
     },
     "execution_count": 82,
     "metadata": {},
     "output_type": "execute_result"
    }
   ],
   "source": [
    "swap_access(text, 0.5)"
   ]
  },
  {
   "cell_type": "markdown",
   "id": "0728ca3f-dc25-4f08-a8e8-25e590129b90",
   "metadata": {},
   "source": [
    "## 4. 针对比较运算的数据增强"
   ]
  },
  {
   "cell_type": "markdown",
   "id": "cf077337-ea9a-429b-9f70-4a5eb1eea8c6",
   "metadata": {},
   "source": [
    "以 p 概率把 > / >=, 或者 </ <= 替换"
   ]
  },
  {
   "cell_type": "code",
   "execution_count": 83,
   "id": "33e869fa-45ce-42e1-8280-2cebc1d50c24",
   "metadata": {},
   "outputs": [],
   "source": [
    "def swap_comp(code_snippet, p):\n",
    "    tokens = re.split('\\s+', code_snippet)\n",
    "    res = ''\n",
    "    for token in tokens:\n",
    "        q = random.random()\n",
    "        if token == '>=' and q <= p:\n",
    "            res += '> '\n",
    "        elif token == '<=' and q <= p:\n",
    "            res += '< '\n",
    "        else:\n",
    "            res += token\n",
    "            res += ' '\n",
    "    return res"
   ]
  },
  {
   "cell_type": "code",
   "execution_count": 85,
   "id": "2e986260-b750-4263-9e46-bdfdecf04155",
   "metadata": {},
   "outputs": [],
   "source": [
    "text = r\"\"\"\n",
    "if a >= b {}\n",
    "else if a <= b {}\n",
    "else if a <= c {}\n",
    "else if a >= d {}\n",
    "\"\"\""
   ]
  },
  {
   "cell_type": "code",
   "execution_count": 92,
   "id": "e82066cf-8bfd-42eb-927e-31eac3573778",
   "metadata": {},
   "outputs": [
    {
     "data": {
      "text/plain": [
       "' if a >= b {} else if a <= b {} else if a < c {} else if a > d {}  '"
      ]
     },
     "execution_count": 92,
     "metadata": {},
     "output_type": "execute_result"
    }
   ],
   "source": [
    "swap_comp(text, 0.3)"
   ]
  },
  {
   "cell_type": "markdown",
   "id": "72ab0eeb-1df7-40c5-8e19-f5aa16f109c4",
   "metadata": {},
   "source": [
    "由于程序片段的破碎性，无法对程序片段进行语法分析，因此损失了很多可用的手段，以上的数据增强方法仅为在这种限制场景下的一些探索"
   ]
  }
 ],
 "metadata": {
  "kernelspec": {
   "display_name": "Python 3 (ipykernel)",
   "language": "python",
   "name": "python3"
  },
  "language_info": {
   "codemirror_mode": {
    "name": "ipython",
    "version": 3
   },
   "file_extension": ".py",
   "mimetype": "text/x-python",
   "name": "python",
   "nbconvert_exporter": "python",
   "pygments_lexer": "ipython3",
   "version": "3.8.10"
  }
 },
 "nbformat": 4,
 "nbformat_minor": 5
}
