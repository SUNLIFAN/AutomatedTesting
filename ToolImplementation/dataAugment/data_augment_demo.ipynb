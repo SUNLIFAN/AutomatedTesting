{
 "cells": [
  {
   "cell_type": "markdown",
   "id": "2bbb26a4-d63c-42b7-b8e9-33ec12547e9b",
   "metadata": {},
   "source": [
    "# 数据增强方法"
   ]
  },
  {
   "cell_type": "markdown",
   "id": "e28ff9dc-3278-4b02-a4e1-83f51dee0ed6",
   "metadata": {},
   "source": [
    "由于有效的数据量十分有限，为了能够获得更好的训练效果，同时留出一定量的数据来对模型进行评估，我们设计了一些数据增强方法，以获取更多数据，这些方法部分借鉴了文本增强方法中常用的思想。"
   ]
  },
  {
   "cell_type": "markdown",
   "id": "74747e2a-0c40-4a01-9b7e-faac98b6a7e6",
   "metadata": {},
   "source": [
    "## 1. 针对算数运算的增强"
   ]
  },
  {
   "cell_type": "markdown",
   "id": "333c89cd-170c-4b5e-bf28-46109e891163",
   "metadata": {},
   "source": [
    "对于所有的加/减法, 以 p 概率换为减/加法"
   ]
  },
  {
   "cell_type": "code",
   "execution_count": 2,
   "id": "9e5fae2a-3653-4d32-8f6b-b620be8a3c04",
   "metadata": {},
   "outputs": [],
   "source": [
    "import random"
   ]
  },
  {
   "cell_type": "code",
   "execution_count": 6,
   "id": "f56979b9-67d9-4f7b-b9d4-3e0f10f43631",
   "metadata": {},
   "outputs": [],
   "source": [
    "def replace_add_sub(code_snippet, p):\n",
    "    tokens = re.split('\\s+', code_snippet)\n",
    "    replaced = ''\n",
    "    for token in tokens:\n",
    "        q = random.random()\n",
    "        if token == '+' and q <= p:\n",
    "            replaced += '- '\n",
    "        elif token == '-' and q <= p:\n",
    "            replaced += '+ '\n",
    "        else:\n",
    "            replaced += (token + ' ')\n",
    "    return replaced"
   ]
  },
  {
   "cell_type": "code",
   "execution_count": 8,
   "id": "37cfc696-f1f0-4eeb-8464-9a227ef16c84",
   "metadata": {},
   "outputs": [],
   "source": [
    "text = r\"\"\"\n",
    "def add_sub(a, b):\n",
    "    c = a + b\n",
    "    d = c - a\n",
    "    b = a * c + b\n",
    "    e = b + a - c * d - q\n",
    "    return e - b + d + a - c\n",
    "\"\"\""
   ]
  },
  {
   "cell_type": "code",
   "execution_count": 11,
   "id": "4ce0d5f9-0c88-4687-b9d9-6320b0c5ecf9",
   "metadata": {},
   "outputs": [
    {
     "data": {
      "text/plain": [
       "' def add_sub(a, b): c = a + b d = c - a b = a * c + b e = b + a - c * d - q return e - b - d + a - c  '"
      ]
     },
     "execution_count": 11,
     "metadata": {},
     "output_type": "execute_result"
    }
   ],
   "source": [
    "replace_add_sub(text, 0.1)"
   ]
  },
  {
   "cell_type": "markdown",
   "id": "4650066d-adb2-467a-9d1c-2e13fa55b341",
   "metadata": {},
   "source": [
    "## 2. 针对逻辑运算的数据增强"
   ]
  },
  {
   "cell_type": "markdown",
   "id": "ac38a971-1d8f-4a60-94e4-cb93d33b5c06",
   "metadata": {},
   "source": [
    "### 2.1 以概率 p 删去某个条件分量"
   ]
  },
  {
   "cell_type": "code",
   "execution_count": 159,
   "id": "61e828c0-5275-47f9-bc0e-c9883ed8b023",
   "metadata": {},
   "outputs": [],
   "source": [
    "def remove_cond_component_cpp(code_snippet, p):\n",
    "    tokens = re.split('\\s+', code_snippet)\n",
    "    len_in_tokens = len(tokens)\n",
    "    res = ''\n",
    "    i = 0\n",
    "    while i < len_in_tokens:\n",
    "        q = random.random()\n",
    "        if (tokens[i] == '&&' or tokens[i] == '||') and q <= p:\n",
    "            while i < len_in_tokens and tokens[i] != ')':\n",
    "                i += 1\n",
    "        if i < len_in_tokens:\n",
    "            res += (tokens[i] + ' ')\n",
    "        i += 1\n",
    "    return res        "
   ]
  },
  {
   "cell_type": "code",
   "execution_count": 160,
   "id": "87254930-b00f-434c-be6a-2b66b3af69e1",
   "metadata": {},
   "outputs": [],
   "source": [
    "text = r\"\"\"\n",
    "if ( rank_ == 0 || ( commType != NCCLCommType::COLL && p2pRank == 0 ) ) { C10D_NCCL_CHECK ( ncclGetUniqueId ( & ncclID ) ) ; }\n",
    "\"\"\""
   ]
  },
  {
   "cell_type": "code",
   "execution_count": 161,
   "id": "f5df5d07-0306-419e-b544-95950b24e61e",
   "metadata": {},
   "outputs": [
    {
     "data": {
      "text/plain": [
       "' if ( rank_ == 0 || ( commType != NCCLCommType::COLL && p2pRank == 0 ) ) { C10D_NCCL_CHECK ( ncclGetUniqueId ( & ncclID ) ) ; }  '"
      ]
     },
     "execution_count": 161,
     "metadata": {},
     "output_type": "execute_result"
    }
   ],
   "source": [
    "remove_cond_component_cpp(text, 0.2)"
   ]
  },
  {
   "cell_type": "markdown",
   "id": "5730fbd1-43ec-44a4-bb6a-d2c610d7db50",
   "metadata": {},
   "source": [
    "### 2.2 以概率 p 把每个 || 和 && 互换"
   ]
  },
  {
   "cell_type": "code",
   "execution_count": 41,
   "id": "3143c7ee-f094-43a9-9b35-2390a36f1917",
   "metadata": {},
   "outputs": [],
   "source": [
    "def swap_cond_cpp(code_snippet, p):\n",
    "    tokens = re.split('\\s+', code_snippet)\n",
    "    res = ''\n",
    "    for token in tokens:\n",
    "        q = random.random()\n",
    "        if token == '&&' and q <= p:\n",
    "            res += '|| '\n",
    "        elif token == '||' and q <= p:\n",
    "            res += '&& '\n",
    "        else:\n",
    "            res += token\n",
    "            res += ' '\n",
    "    return res\n",
    "    "
   ]
  },
  {
   "cell_type": "code",
   "execution_count": 60,
   "id": "12874599-f8e0-4919-8165-0233279419b7",
   "metadata": {},
   "outputs": [],
   "source": [
    "def swap_cond_py(code_snippet, p):\n",
    "    tokens = re.split('\\s+', code_snippet)\n",
    "    res = ''\n",
    "    for token in tokens:\n",
    "        q = random.random()\n",
    "        if token == 'and' and q <= p:\n",
    "            res += 'or '\n",
    "        elif token == 'or' and q <= p:\n",
    "            res += 'and '\n",
    "        else:\n",
    "            res += token\n",
    "            res += ' '\n",
    "    return res\n",
    "    "
   ]
  },
  {
   "cell_type": "code",
   "execution_count": 42,
   "id": "e25d74ee-14ed-4193-9366-55134b1ca60f",
   "metadata": {},
   "outputs": [],
   "source": [
    "text = r\"\"\"\n",
    "if ( rank_ == 0 || ( commType != NCCLCommType::COLL && p2pRank == 0 ) ) { C10D_NCCL_CHECK ( ncclGetUniqueId ( & ncclID ) ) ; }\n",
    "\"\"\""
   ]
  },
  {
   "cell_type": "code",
   "execution_count": 43,
   "id": "8a3dfd45-552b-4e1a-ac51-b2e858bbd034",
   "metadata": {},
   "outputs": [
    {
     "data": {
      "text/plain": [
       "' if ( rank_ == 0 || ( commType != NCCLCommType::COLL || p2pRank == 0 ) ) { C10D_NCCL_CHECK ( ncclGetUniqueId ( & ncclID ) ) ; }  '"
      ]
     },
     "execution_count": 43,
     "metadata": {},
     "output_type": "execute_result"
    }
   ],
   "source": [
    "swap_cond_cpp(text, 0.2)"
   ]
  },
  {
   "cell_type": "code",
   "execution_count": 65,
   "id": "d8c3da62-e0b7-46f6-8443-e161131bf629",
   "metadata": {},
   "outputs": [],
   "source": [
    "text = r\"\"\"\n",
    "if a and b or c or d and e or f:\n",
    "    i += 1\n",
    "\"\"\""
   ]
  },
  {
   "cell_type": "code",
   "execution_count": 66,
   "id": "6d829cfd-004c-4105-9dec-3958e5da162c",
   "metadata": {},
   "outputs": [
    {
     "data": {
      "text/plain": [
       "' if a and b and c or d and e or f: i += 1  '"
      ]
     },
     "execution_count": 66,
     "metadata": {},
     "output_type": "execute_result"
    }
   ],
   "source": [
    "swap_cond_py(text, 0.3)"
   ]
  },
  {
   "cell_type": "markdown",
   "id": "949391e3-e7e1-49e8-9476-e359708acb74",
   "metadata": {},
   "source": [
    "## 3. 针对对象访问的增强"
   ]
  },
  {
   "cell_type": "markdown",
   "id": "c957aa3b-4a3b-4a56-9256-a61dd6c0be48",
   "metadata": {},
   "source": [
    "对于所有的 . 和 ->, 以 p 概率换成 -> 或者 ."
   ]
  },
  {
   "cell_type": "code",
   "execution_count": 67,
   "id": "6f5fafa7-2e00-4187-8620-8870f1805f09",
   "metadata": {},
   "outputs": [],
   "source": [
    "def swap_access(code_snippet, p):\n",
    "    tokens = re.split('\\s+', code_snippet)\n",
    "    res = ''\n",
    "    for token in tokens:\n",
    "        q = random.random()\n",
    "        if token == '->' and q <= p:\n",
    "            res += '. '\n",
    "        elif token == '.' and q <= p:\n",
    "            res += '-> '\n",
    "        else:\n",
    "            res += token\n",
    "            res += ' '\n",
    "    return res"
   ]
  },
  {
   "cell_type": "code",
   "execution_count": 81,
   "id": "5b033623-1ff3-4057-aee0-d7ef7f3cfb79",
   "metadata": {},
   "outputs": [],
   "source": [
    "text = r\"\"\"\n",
    "if ( check_has_torch_function ( self ) ) { return handle_torch_function_setter ( ( THPVariable * ) self , \"\"names\"\" , names ) ; } auto & var = ( ( THPVariable * ) self ) -> cdata ;\n",
    "\"\"\""
   ]
  },
  {
   "cell_type": "code",
   "execution_count": 82,
   "id": "1a478e44-31c5-4566-bae7-a726fa301e4e",
   "metadata": {},
   "outputs": [
    {
     "data": {
      "text/plain": [
       "' if ( check_has_torch_function ( self ) ) { return handle_torch_function_setter ( ( THPVariable * ) self , \"\"names\"\" , names ) ; } auto & var = ( ( THPVariable * ) self ) . cdata ;  '"
      ]
     },
     "execution_count": 82,
     "metadata": {},
     "output_type": "execute_result"
    }
   ],
   "source": [
    "swap_access(text, 0.5)"
   ]
  },
  {
   "cell_type": "markdown",
   "id": "0728ca3f-dc25-4f08-a8e8-25e590129b90",
   "metadata": {},
   "source": [
    "## 4. 针对比较运算的数据增强"
   ]
  },
  {
   "cell_type": "markdown",
   "id": "cf077337-ea9a-429b-9f70-4a5eb1eea8c6",
   "metadata": {},
   "source": [
    "以 p 概率把 > / >=, 或者 </ <= 替换"
   ]
  },
  {
   "cell_type": "code",
   "execution_count": 83,
   "id": "33e869fa-45ce-42e1-8280-2cebc1d50c24",
   "metadata": {},
   "outputs": [],
   "source": [
    "def swap_comp(code_snippet, p):\n",
    "    tokens = re.split('\\s+', code_snippet)\n",
    "    res = ''\n",
    "    for token in tokens:\n",
    "        q = random.random()\n",
    "        if token == '>=' and q <= p:\n",
    "            res += '> '\n",
    "        elif token == '<=' and q <= p:\n",
    "            res += '< '\n",
    "        else:\n",
    "            res += token\n",
    "            res += ' '\n",
    "    return res"
   ]
  },
  {
   "cell_type": "code",
   "execution_count": 85,
   "id": "2e986260-b750-4263-9e46-bdfdecf04155",
   "metadata": {},
   "outputs": [],
   "source": [
    "text = r\"\"\"\n",
    "if a >= b {}\n",
    "else if a <= b {}\n",
    "else if a <= c {}\n",
    "else if a >= d {}\n",
    "\"\"\""
   ]
  },
  {
   "cell_type": "code",
   "execution_count": 92,
   "id": "e82066cf-8bfd-42eb-927e-31eac3573778",
   "metadata": {},
   "outputs": [
    {
     "data": {
      "text/plain": [
       "' if a >= b {} else if a <= b {} else if a < c {} else if a > d {}  '"
      ]
     },
     "execution_count": 92,
     "metadata": {},
     "output_type": "execute_result"
    }
   ],
   "source": [
    "swap_comp(text, 0.3)"
   ]
  },
  {
   "cell_type": "markdown",
   "id": "72ab0eeb-1df7-40c5-8e19-f5aa16f109c4",
   "metadata": {},
   "source": [
    "由于程序片段的破碎性，无法对程序片段进行语法分析，因此损失了很多可用的手段，以上的数据增强方法仅为在这种限制场景下的一些探索"
   ]
  },
  {
   "cell_type": "code",
   "execution_count": 131,
   "id": "b875e914-3910-4fc2-8d62-13b4882926a1",
   "metadata": {},
   "outputs": [],
   "source": [
    "def corrupt(code_snippet, p):\n",
    "    tokens = re.split('\\s+', code_snippet)\n",
    "    res = ''\n",
    "    for token in tokens:\n",
    "        q = random.random()\n",
    "        if q > p:\n",
    "            res += token\n",
    "            res += ' '\n",
    "    return res"
   ]
  },
  {
   "cell_type": "code",
   "execution_count": 132,
   "id": "664e84e7-941b-4ed9-8eaa-549d2ee519ec",
   "metadata": {},
   "outputs": [],
   "source": [
    "text = r\"\"\"\n",
    "this is a token sequence to be corrupted sda sjfhals shags lasjf or 888.\n",
    "\"\"\""
   ]
  },
  {
   "cell_type": "code",
   "execution_count": 133,
   "id": "dfd390a8-41c4-4050-9612-b11175947c6a",
   "metadata": {},
   "outputs": [
    {
     "data": {
      "text/plain": [
       "'this is a token to corrupted sda sjfhals shags lasjf or 888. '"
      ]
     },
     "execution_count": 133,
     "metadata": {},
     "output_type": "execute_result"
    }
   ],
   "source": [
    "corrupt(text, 0.2)"
   ]
  },
  {
   "cell_type": "code",
   "execution_count": 145,
   "id": "5ec53802-f511-457b-9577-0babac912411",
   "metadata": {},
   "outputs": [],
   "source": [
    "def randomlyCorrupt(code_snippet, p):\n",
    "    q = random.random()\n",
    "    if q <= 0.3:\n",
    "        return corrupt(code_snippet, p)\n",
    "    return code_snippet"
   ]
  },
  {
   "cell_type": "markdown",
   "id": "4a06b9dd-0971-42b4-97b2-709e921aca28",
   "metadata": {},
   "source": [
    "### 使用数据增强方法扩增数据"
   ]
  },
  {
   "cell_type": "code",
   "execution_count": 94,
   "id": "49c330b4-97b1-4ceb-8593-cbc811228ff4",
   "metadata": {},
   "outputs": [],
   "source": [
    "import pandas as pd"
   ]
  },
  {
   "cell_type": "code",
   "execution_count": 96,
   "id": "12e97c47-b68f-47db-ae25-491346c5df02",
   "metadata": {},
   "outputs": [],
   "source": [
    "cpp_data_path = '../data/cpp/dl_cpp_tokenized.csv'"
   ]
  },
  {
   "cell_type": "code",
   "execution_count": 97,
   "id": "bf218972-87fc-45e4-9841-611abdc3bbe2",
   "metadata": {},
   "outputs": [],
   "source": [
    "cpp_data = pd.read_csv(cpp_data_path)"
   ]
  },
  {
   "cell_type": "code",
   "execution_count": 98,
   "id": "28098c24-2b25-42d0-9f7f-0181fba90033",
   "metadata": {},
   "outputs": [],
   "source": [
    "py_data_path = '../data/py/dl_py_tokenized.csv'"
   ]
  },
  {
   "cell_type": "code",
   "execution_count": 99,
   "id": "145de602-042f-4450-8e8c-ba9ce8c956b1",
   "metadata": {},
   "outputs": [],
   "source": [
    "py_data = pd.read_csv(py_data_path)"
   ]
  },
  {
   "cell_type": "code",
   "execution_count": 100,
   "id": "7d1a0e57-ea8a-4a33-9874-b32440bf6773",
   "metadata": {},
   "outputs": [
    {
     "data": {
      "text/html": [
       "<div>\n",
       "<style scoped>\n",
       "    .dataframe tbody tr th:only-of-type {\n",
       "        vertical-align: middle;\n",
       "    }\n",
       "\n",
       "    .dataframe tbody tr th {\n",
       "        vertical-align: top;\n",
       "    }\n",
       "\n",
       "    .dataframe thead th {\n",
       "        text-align: right;\n",
       "    }\n",
       "</style>\n",
       "<table border=\"1\" class=\"dataframe\">\n",
       "  <thead>\n",
       "    <tr style=\"text-align: right;\">\n",
       "      <th></th>\n",
       "      <th>BUGGY_CODE</th>\n",
       "      <th>FIXED_CODE</th>\n",
       "    </tr>\n",
       "  </thead>\n",
       "  <tbody>\n",
       "    <tr>\n",
       "      <th>0</th>\n",
       "      <td>std::shared_ptr&lt;ProcessGroupNCCL::WorkNCCL&gt; Pr...</td>\n",
       "      <td>std::shared_ptr&lt;ProcessGroupNCCL::WorkNCCL&gt; Pr...</td>\n",
       "    </tr>\n",
       "    <tr>\n",
       "      <th>1</th>\n",
       "      <td>std::chrono::milliseconds ( kWaitForAbortCommS...</td>\n",
       "      <td>std::chrono::milliseconds ( kWaitForAbortCommS...</td>\n",
       "    </tr>\n",
       "    <tr>\n",
       "      <th>2</th>\n",
       "      <td>if ( rank_ == 0 || ( commType != NCCLCommType:...</td>\n",
       "      <td>if ( rank_ == 0 || ( isP2POp ( opType ) &amp;&amp; p2p...</td>\n",
       "    </tr>\n",
       "    <tr>\n",
       "      <th>3</th>\n",
       "      <td>int numRanks , rank ; if ( commType == NCCLCom...</td>\n",
       "      <td>int numRanks , rank ; if ( sP2POp ( opType ) )...</td>\n",
       "    </tr>\n",
       "    <tr>\n",
       "      <th>4</th>\n",
       "      <td>if ( str != \"None\" &amp;&amp; str != \"\" ) { throw std:...</td>\n",
       "      <td>if ( str != \"None\" ) { default_string = parse_...</td>\n",
       "    </tr>\n",
       "  </tbody>\n",
       "</table>\n",
       "</div>"
      ],
      "text/plain": [
       "                                          BUGGY_CODE  \\\n",
       "0  std::shared_ptr<ProcessGroupNCCL::WorkNCCL> Pr...   \n",
       "1  std::chrono::milliseconds ( kWaitForAbortCommS...   \n",
       "2  if ( rank_ == 0 || ( commType != NCCLCommType:...   \n",
       "3  int numRanks , rank ; if ( commType == NCCLCom...   \n",
       "4  if ( str != \"None\" && str != \"\" ) { throw std:...   \n",
       "\n",
       "                                          FIXED_CODE  \n",
       "0  std::shared_ptr<ProcessGroupNCCL::WorkNCCL> Pr...  \n",
       "1  std::chrono::milliseconds ( kWaitForAbortCommS...  \n",
       "2  if ( rank_ == 0 || ( isP2POp ( opType ) && p2p...  \n",
       "3  int numRanks , rank ; if ( sP2POp ( opType ) )...  \n",
       "4  if ( str != \"None\" ) { default_string = parse_...  "
      ]
     },
     "execution_count": 100,
     "metadata": {},
     "output_type": "execute_result"
    }
   ],
   "source": [
    "cpp_data.head()"
   ]
  },
  {
   "cell_type": "code",
   "execution_count": 101,
   "id": "fea7c9fb-1e02-44b7-9e78-64005c9e3919",
   "metadata": {},
   "outputs": [
    {
     "data": {
      "text/html": [
       "<div>\n",
       "<style scoped>\n",
       "    .dataframe tbody tr th:only-of-type {\n",
       "        vertical-align: middle;\n",
       "    }\n",
       "\n",
       "    .dataframe tbody tr th {\n",
       "        vertical-align: top;\n",
       "    }\n",
       "\n",
       "    .dataframe thead th {\n",
       "        text-align: right;\n",
       "    }\n",
       "</style>\n",
       "<table border=\"1\" class=\"dataframe\">\n",
       "  <thead>\n",
       "    <tr style=\"text-align: right;\">\n",
       "      <th></th>\n",
       "      <th>BUGGY_CODE</th>\n",
       "      <th>FIXED_CODE</th>\n",
       "    </tr>\n",
       "  </thead>\n",
       "  <tbody>\n",
       "    <tr>\n",
       "      <th>count</th>\n",
       "      <td>357</td>\n",
       "      <td>357</td>\n",
       "    </tr>\n",
       "    <tr>\n",
       "      <th>unique</th>\n",
       "      <td>329</td>\n",
       "      <td>329</td>\n",
       "    </tr>\n",
       "    <tr>\n",
       "      <th>top</th>\n",
       "      <td>const auto source_n = n -&gt; sourceRange ( ) . s...</td>\n",
       "      <td>const auto source_n = n -&gt; sourceRange ( ) . s...</td>\n",
       "    </tr>\n",
       "    <tr>\n",
       "      <th>freq</th>\n",
       "      <td>3</td>\n",
       "      <td>3</td>\n",
       "    </tr>\n",
       "  </tbody>\n",
       "</table>\n",
       "</div>"
      ],
      "text/plain": [
       "                                               BUGGY_CODE  \\\n",
       "count                                                 357   \n",
       "unique                                                329   \n",
       "top     const auto source_n = n -> sourceRange ( ) . s...   \n",
       "freq                                                    3   \n",
       "\n",
       "                                               FIXED_CODE  \n",
       "count                                                 357  \n",
       "unique                                                329  \n",
       "top     const auto source_n = n -> sourceRange ( ) . s...  \n",
       "freq                                                    3  "
      ]
     },
     "execution_count": 101,
     "metadata": {},
     "output_type": "execute_result"
    }
   ],
   "source": [
    "cpp_data.describe()"
   ]
  },
  {
   "cell_type": "code",
   "execution_count": 102,
   "id": "f6b1cee5-498a-47a2-872b-06be98420999",
   "metadata": {},
   "outputs": [
    {
     "data": {
      "text/html": [
       "<div>\n",
       "<style scoped>\n",
       "    .dataframe tbody tr th:only-of-type {\n",
       "        vertical-align: middle;\n",
       "    }\n",
       "\n",
       "    .dataframe tbody tr th {\n",
       "        vertical-align: top;\n",
       "    }\n",
       "\n",
       "    .dataframe thead th {\n",
       "        text-align: right;\n",
       "    }\n",
       "</style>\n",
       "<table border=\"1\" class=\"dataframe\">\n",
       "  <thead>\n",
       "    <tr style=\"text-align: right;\">\n",
       "      <th></th>\n",
       "      <th>BUGGY_CODE</th>\n",
       "      <th>FIXED_CODE</th>\n",
       "    </tr>\n",
       "  </thead>\n",
       "  <tbody>\n",
       "    <tr>\n",
       "      <th>0</th>\n",
       "      <td>def __sizeof__ ( self ) : return super ( _Stor...</td>\n",
       "      <td>def __sizeof__ ( self ) : return ( super ( _St...</td>\n",
       "    </tr>\n",
       "    <tr>\n",
       "      <th>1</th>\n",
       "      <td>self . quant_min : int = quant_min self . quan...</td>\n",
       "      <td>self . quant_min : int = quant_min self . quan...</td>\n",
       "    </tr>\n",
       "    <tr>\n",
       "      <th>2</th>\n",
       "      <td>def get_default_qat_qconfig ( backend = gemm v...</td>\n",
       "      <td>def get_default_qat_qconfig ( backend = gemm v...</td>\n",
       "    </tr>\n",
       "    <tr>\n",
       "      <th>3</th>\n",
       "      <td>exp_avg . mul_ ( beta1 ) . add_ ( grad , alpha...</td>\n",
       "      <td>exp_avg . mul_ ( beta1 ) . add_ ( grad , alpha...</td>\n",
       "    </tr>\n",
       "    <tr>\n",
       "      <th>4</th>\n",
       "      <td>def get_post_build_suffix ( self ) -&gt; str : if...</td>\n",
       "      <td>def get_post_build_suffix ( self ) -&gt; str : if...</td>\n",
       "    </tr>\n",
       "  </tbody>\n",
       "</table>\n",
       "</div>"
      ],
      "text/plain": [
       "                                          BUGGY_CODE  \\\n",
       "0  def __sizeof__ ( self ) : return super ( _Stor...   \n",
       "1  self . quant_min : int = quant_min self . quan...   \n",
       "2  def get_default_qat_qconfig ( backend = gemm v...   \n",
       "3  exp_avg . mul_ ( beta1 ) . add_ ( grad , alpha...   \n",
       "4  def get_post_build_suffix ( self ) -> str : if...   \n",
       "\n",
       "                                          FIXED_CODE  \n",
       "0  def __sizeof__ ( self ) : return ( super ( _St...  \n",
       "1  self . quant_min : int = quant_min self . quan...  \n",
       "2  def get_default_qat_qconfig ( backend = gemm v...  \n",
       "3  exp_avg . mul_ ( beta1 ) . add_ ( grad , alpha...  \n",
       "4  def get_post_build_suffix ( self ) -> str : if...  "
      ]
     },
     "execution_count": 102,
     "metadata": {},
     "output_type": "execute_result"
    }
   ],
   "source": [
    "py_data.head()"
   ]
  },
  {
   "cell_type": "code",
   "execution_count": 103,
   "id": "0d20a07d-ec6e-42ba-a425-cdd733f94f34",
   "metadata": {},
   "outputs": [
    {
     "data": {
      "text/html": [
       "<div>\n",
       "<style scoped>\n",
       "    .dataframe tbody tr th:only-of-type {\n",
       "        vertical-align: middle;\n",
       "    }\n",
       "\n",
       "    .dataframe tbody tr th {\n",
       "        vertical-align: top;\n",
       "    }\n",
       "\n",
       "    .dataframe thead th {\n",
       "        text-align: right;\n",
       "    }\n",
       "</style>\n",
       "<table border=\"1\" class=\"dataframe\">\n",
       "  <thead>\n",
       "    <tr style=\"text-align: right;\">\n",
       "      <th></th>\n",
       "      <th>BUGGY_CODE</th>\n",
       "      <th>FIXED_CODE</th>\n",
       "    </tr>\n",
       "  </thead>\n",
       "  <tbody>\n",
       "    <tr>\n",
       "      <th>count</th>\n",
       "      <td>275</td>\n",
       "      <td>275</td>\n",
       "    </tr>\n",
       "    <tr>\n",
       "      <th>unique</th>\n",
       "      <td>268</td>\n",
       "      <td>268</td>\n",
       "    </tr>\n",
       "    <tr>\n",
       "      <th>top</th>\n",
       "      <td>if it % 100 == 0 : print ( eration % d - - Out...</td>\n",
       "      <td>if it % 100 == 0 : print ( eration % d - - Out...</td>\n",
       "    </tr>\n",
       "    <tr>\n",
       "      <th>freq</th>\n",
       "      <td>3</td>\n",
       "      <td>3</td>\n",
       "    </tr>\n",
       "  </tbody>\n",
       "</table>\n",
       "</div>"
      ],
      "text/plain": [
       "                                               BUGGY_CODE  \\\n",
       "count                                                 275   \n",
       "unique                                                268   \n",
       "top     if it % 100 == 0 : print ( eration % d - - Out...   \n",
       "freq                                                    3   \n",
       "\n",
       "                                               FIXED_CODE  \n",
       "count                                                 275  \n",
       "unique                                                268  \n",
       "top     if it % 100 == 0 : print ( eration % d - - Out...  \n",
       "freq                                                    3  "
      ]
     },
     "execution_count": 103,
     "metadata": {},
     "output_type": "execute_result"
    }
   ],
   "source": [
    "py_data.describe()"
   ]
  },
  {
   "cell_type": "code",
   "execution_count": 174,
   "id": "281af4c3-9d1c-4c53-b300-4cb2a16a5a0f",
   "metadata": {},
   "outputs": [],
   "source": [
    "py_aug = pd.DataFrame(data={'BUGGY_CODE': [], \"FIXED_CODE\": []})"
   ]
  },
  {
   "cell_type": "code",
   "execution_count": 175,
   "id": "c43b6f8b-68f8-49fc-9897-a2a2632cb885",
   "metadata": {},
   "outputs": [],
   "source": [
    "py_aug_methods = [replace_add_sub, swap_cond_py, swap_comp]"
   ]
  },
  {
   "cell_type": "code",
   "execution_count": 176,
   "id": "4d9fe752-3329-4123-b08c-82b896b0d232",
   "metadata": {},
   "outputs": [],
   "source": [
    "cpp_aug = pd.DataFrame(data={'BUGGY_CODE': [], \"FIXED_CODE\": []})"
   ]
  },
  {
   "cell_type": "code",
   "execution_count": 177,
   "id": "3d9b7f50-69ec-4744-b94c-ac3fd11b016b",
   "metadata": {},
   "outputs": [],
   "source": [
    "cpp_aug_methods = [replace_add_sub, remove_cond_component_cpp, swap_cond_cpp, swap_access, swap_comp]"
   ]
  },
  {
   "cell_type": "code",
   "execution_count": 178,
   "id": "a62ecdd7-e096-42ad-bfa7-24dc3aea9f5c",
   "metadata": {},
   "outputs": [
    {
     "data": {
      "text/html": [
       "<div>\n",
       "<style scoped>\n",
       "    .dataframe tbody tr th:only-of-type {\n",
       "        vertical-align: middle;\n",
       "    }\n",
       "\n",
       "    .dataframe tbody tr th {\n",
       "        vertical-align: top;\n",
       "    }\n",
       "\n",
       "    .dataframe thead th {\n",
       "        text-align: right;\n",
       "    }\n",
       "</style>\n",
       "<table border=\"1\" class=\"dataframe\">\n",
       "  <thead>\n",
       "    <tr style=\"text-align: right;\">\n",
       "      <th></th>\n",
       "      <th>BUGGY_CODE</th>\n",
       "      <th>FIXED_CODE</th>\n",
       "    </tr>\n",
       "  </thead>\n",
       "  <tbody>\n",
       "  </tbody>\n",
       "</table>\n",
       "</div>"
      ],
      "text/plain": [
       "Empty DataFrame\n",
       "Columns: [BUGGY_CODE, FIXED_CODE]\n",
       "Index: []"
      ]
     },
     "execution_count": 178,
     "metadata": {},
     "output_type": "execute_result"
    }
   ],
   "source": [
    "py_aug.head()"
   ]
  },
  {
   "cell_type": "code",
   "execution_count": 179,
   "id": "d60b271d-13bd-4009-8c53-50f1e13a2a8e",
   "metadata": {},
   "outputs": [
    {
     "data": {
      "text/html": [
       "<div>\n",
       "<style scoped>\n",
       "    .dataframe tbody tr th:only-of-type {\n",
       "        vertical-align: middle;\n",
       "    }\n",
       "\n",
       "    .dataframe tbody tr th {\n",
       "        vertical-align: top;\n",
       "    }\n",
       "\n",
       "    .dataframe thead th {\n",
       "        text-align: right;\n",
       "    }\n",
       "</style>\n",
       "<table border=\"1\" class=\"dataframe\">\n",
       "  <thead>\n",
       "    <tr style=\"text-align: right;\">\n",
       "      <th></th>\n",
       "      <th>BUGGY_CODE</th>\n",
       "      <th>FIXED_CODE</th>\n",
       "    </tr>\n",
       "  </thead>\n",
       "  <tbody>\n",
       "  </tbody>\n",
       "</table>\n",
       "</div>"
      ],
      "text/plain": [
       "Empty DataFrame\n",
       "Columns: [BUGGY_CODE, FIXED_CODE]\n",
       "Index: []"
      ]
     },
     "execution_count": 179,
     "metadata": {},
     "output_type": "execute_result"
    }
   ],
   "source": [
    "cpp_aug.head()"
   ]
  },
  {
   "cell_type": "code",
   "execution_count": 180,
   "id": "9fb75b1c-a557-48e4-8845-0076c8c8b64e",
   "metadata": {},
   "outputs": [],
   "source": [
    "py_data_len = py_data.shape[0]\n",
    "cpp_data_len = cpp_data.shape[0]"
   ]
  },
  {
   "cell_type": "code",
   "execution_count": 181,
   "id": "318784c0-043b-405c-9226-a06fd598f201",
   "metadata": {},
   "outputs": [],
   "source": [
    "for i in range(py_data_len):\n",
    "    fixed_code = py_data.iloc[i]['FIXED_CODE']\n",
    "    for p in [0.3, 0.4, 0.5]:\n",
    "        for f in py_aug_methods:\n",
    "            transformed = f(fixed_code, p)\n",
    "            transformed = randomlyCorrupt(transformed, p)\n",
    "            py_aug.loc[len(py_aug.index)] = [transformed, fixed_code]"
   ]
  },
  {
   "cell_type": "code",
   "execution_count": 182,
   "id": "4801a23f-685b-4fb2-80a8-2c610121f371",
   "metadata": {},
   "outputs": [
    {
     "data": {
      "text/html": [
       "<div>\n",
       "<style scoped>\n",
       "    .dataframe tbody tr th:only-of-type {\n",
       "        vertical-align: middle;\n",
       "    }\n",
       "\n",
       "    .dataframe tbody tr th {\n",
       "        vertical-align: top;\n",
       "    }\n",
       "\n",
       "    .dataframe thead th {\n",
       "        text-align: right;\n",
       "    }\n",
       "</style>\n",
       "<table border=\"1\" class=\"dataframe\">\n",
       "  <thead>\n",
       "    <tr style=\"text-align: right;\">\n",
       "      <th></th>\n",
       "      <th>BUGGY_CODE</th>\n",
       "      <th>FIXED_CODE</th>\n",
       "    </tr>\n",
       "  </thead>\n",
       "  <tbody>\n",
       "    <tr>\n",
       "      <th>0</th>\n",
       "      <td>def __sizeof__ ( self ) : return ( super ( _St...</td>\n",
       "      <td>def __sizeof__ ( self ) : return ( super ( _St...</td>\n",
       "    </tr>\n",
       "    <tr>\n",
       "      <th>1</th>\n",
       "      <td>def __sizeof__ ( self ) : return ( super ( _St...</td>\n",
       "      <td>def __sizeof__ ( self ) : return ( super ( _St...</td>\n",
       "    </tr>\n",
       "    <tr>\n",
       "      <th>2</th>\n",
       "      <td>def __sizeof__ ( self ) : return ( super ( _St...</td>\n",
       "      <td>def __sizeof__ ( self ) : return ( super ( _St...</td>\n",
       "    </tr>\n",
       "    <tr>\n",
       "      <th>3</th>\n",
       "      <td>def __sizeof__ ( self ) : return ( super ( _St...</td>\n",
       "      <td>def __sizeof__ ( self ) : return ( super ( _St...</td>\n",
       "    </tr>\n",
       "    <tr>\n",
       "      <th>4</th>\n",
       "      <td>def __sizeof__ ( self ) : return ( super ( , ....</td>\n",
       "      <td>def __sizeof__ ( self ) : return ( super ( _St...</td>\n",
       "    </tr>\n",
       "  </tbody>\n",
       "</table>\n",
       "</div>"
      ],
      "text/plain": [
       "                                          BUGGY_CODE  \\\n",
       "0  def __sizeof__ ( self ) : return ( super ( _St...   \n",
       "1  def __sizeof__ ( self ) : return ( super ( _St...   \n",
       "2  def __sizeof__ ( self ) : return ( super ( _St...   \n",
       "3  def __sizeof__ ( self ) : return ( super ( _St...   \n",
       "4  def __sizeof__ ( self ) : return ( super ( , ....   \n",
       "\n",
       "                                          FIXED_CODE  \n",
       "0  def __sizeof__ ( self ) : return ( super ( _St...  \n",
       "1  def __sizeof__ ( self ) : return ( super ( _St...  \n",
       "2  def __sizeof__ ( self ) : return ( super ( _St...  \n",
       "3  def __sizeof__ ( self ) : return ( super ( _St...  \n",
       "4  def __sizeof__ ( self ) : return ( super ( _St...  "
      ]
     },
     "execution_count": 182,
     "metadata": {},
     "output_type": "execute_result"
    }
   ],
   "source": [
    "py_aug.head()"
   ]
  },
  {
   "cell_type": "code",
   "execution_count": 183,
   "id": "7280fd43-7395-49b4-9110-d7295f4b99dd",
   "metadata": {},
   "outputs": [
    {
     "data": {
      "text/html": [
       "<div>\n",
       "<style scoped>\n",
       "    .dataframe tbody tr th:only-of-type {\n",
       "        vertical-align: middle;\n",
       "    }\n",
       "\n",
       "    .dataframe tbody tr th {\n",
       "        vertical-align: top;\n",
       "    }\n",
       "\n",
       "    .dataframe thead th {\n",
       "        text-align: right;\n",
       "    }\n",
       "</style>\n",
       "<table border=\"1\" class=\"dataframe\">\n",
       "  <thead>\n",
       "    <tr style=\"text-align: right;\">\n",
       "      <th></th>\n",
       "      <th>BUGGY_CODE</th>\n",
       "      <th>FIXED_CODE</th>\n",
       "    </tr>\n",
       "  </thead>\n",
       "  <tbody>\n",
       "    <tr>\n",
       "      <th>count</th>\n",
       "      <td>2475</td>\n",
       "      <td>2475</td>\n",
       "    </tr>\n",
       "    <tr>\n",
       "      <th>unique</th>\n",
       "      <td>1119</td>\n",
       "      <td>268</td>\n",
       "    </tr>\n",
       "    <tr>\n",
       "      <th>top</th>\n",
       "      <td>paths . append ( p ) if not found_one : print ...</td>\n",
       "      <td>if it % 100 == 0 : print ( eration % d - - Out...</td>\n",
       "    </tr>\n",
       "    <tr>\n",
       "      <th>freq</th>\n",
       "      <td>16</td>\n",
       "      <td>27</td>\n",
       "    </tr>\n",
       "  </tbody>\n",
       "</table>\n",
       "</div>"
      ],
      "text/plain": [
       "                                               BUGGY_CODE  \\\n",
       "count                                                2475   \n",
       "unique                                               1119   \n",
       "top     paths . append ( p ) if not found_one : print ...   \n",
       "freq                                                   16   \n",
       "\n",
       "                                               FIXED_CODE  \n",
       "count                                                2475  \n",
       "unique                                                268  \n",
       "top     if it % 100 == 0 : print ( eration % d - - Out...  \n",
       "freq                                                   27  "
      ]
     },
     "execution_count": 183,
     "metadata": {},
     "output_type": "execute_result"
    }
   ],
   "source": [
    "py_aug.describe()"
   ]
  },
  {
   "cell_type": "code",
   "execution_count": 184,
   "id": "bf829454-d7d8-4a17-817d-0f0d88102667",
   "metadata": {},
   "outputs": [],
   "source": [
    "for i in range(cpp_data_len):\n",
    "    fixed_code = cpp_data.iloc[i]['FIXED_CODE']\n",
    "    for p in [0.3, 0.4, 0.5]:\n",
    "        for f in cpp_aug_methods:\n",
    "            transformed = f(fixed_code, p)\n",
    "            transformed = randomlyCorrupt(transformed, p)\n",
    "            cpp_aug.loc[len(cpp_aug.index)] = [transformed, fixed_code]"
   ]
  },
  {
   "cell_type": "code",
   "execution_count": 185,
   "id": "a62b161d-5bd1-49dd-a29e-a20ac3efadac",
   "metadata": {},
   "outputs": [
    {
     "data": {
      "text/html": [
       "<div>\n",
       "<style scoped>\n",
       "    .dataframe tbody tr th:only-of-type {\n",
       "        vertical-align: middle;\n",
       "    }\n",
       "\n",
       "    .dataframe tbody tr th {\n",
       "        vertical-align: top;\n",
       "    }\n",
       "\n",
       "    .dataframe thead th {\n",
       "        text-align: right;\n",
       "    }\n",
       "</style>\n",
       "<table border=\"1\" class=\"dataframe\">\n",
       "  <thead>\n",
       "    <tr style=\"text-align: right;\">\n",
       "      <th></th>\n",
       "      <th>BUGGY_CODE</th>\n",
       "      <th>FIXED_CODE</th>\n",
       "    </tr>\n",
       "  </thead>\n",
       "  <tbody>\n",
       "    <tr>\n",
       "      <th>0</th>\n",
       "      <td>std::shared_ptr&lt;ProcessGroupNCCL::WorkNCCL&gt; Pr...</td>\n",
       "      <td>std::shared_ptr&lt;ProcessGroupNCCL::WorkNCCL&gt; Pr...</td>\n",
       "    </tr>\n",
       "    <tr>\n",
       "      <th>1</th>\n",
       "      <td>std::shared_ptr&lt;ProcessGroupNCCL::WorkNCCL&gt; Pr...</td>\n",
       "      <td>std::shared_ptr&lt;ProcessGroupNCCL::WorkNCCL&gt; Pr...</td>\n",
       "    </tr>\n",
       "    <tr>\n",
       "      <th>2</th>\n",
       "      <td>std::shared_ptr&lt;ProcessGroupNCCL::WorkNCCL&gt; Pr...</td>\n",
       "      <td>std::shared_ptr&lt;ProcessGroupNCCL::WorkNCCL&gt; Pr...</td>\n",
       "    </tr>\n",
       "    <tr>\n",
       "      <th>3</th>\n",
       "      <td>std::shared_ptr&lt;ProcessGroupNCCL::WorkNCCL&gt; Pr...</td>\n",
       "      <td>std::shared_ptr&lt;ProcessGroupNCCL::WorkNCCL&gt; Pr...</td>\n",
       "    </tr>\n",
       "    <tr>\n",
       "      <th>4</th>\n",
       "      <td>std::shared_ptr&lt;ProcessGroupNCCL::WorkNCCL&gt; ( ...</td>\n",
       "      <td>std::shared_ptr&lt;ProcessGroupNCCL::WorkNCCL&gt; Pr...</td>\n",
       "    </tr>\n",
       "  </tbody>\n",
       "</table>\n",
       "</div>"
      ],
      "text/plain": [
       "                                          BUGGY_CODE  \\\n",
       "0  std::shared_ptr<ProcessGroupNCCL::WorkNCCL> Pr...   \n",
       "1  std::shared_ptr<ProcessGroupNCCL::WorkNCCL> Pr...   \n",
       "2  std::shared_ptr<ProcessGroupNCCL::WorkNCCL> Pr...   \n",
       "3  std::shared_ptr<ProcessGroupNCCL::WorkNCCL> Pr...   \n",
       "4  std::shared_ptr<ProcessGroupNCCL::WorkNCCL> ( ...   \n",
       "\n",
       "                                          FIXED_CODE  \n",
       "0  std::shared_ptr<ProcessGroupNCCL::WorkNCCL> Pr...  \n",
       "1  std::shared_ptr<ProcessGroupNCCL::WorkNCCL> Pr...  \n",
       "2  std::shared_ptr<ProcessGroupNCCL::WorkNCCL> Pr...  \n",
       "3  std::shared_ptr<ProcessGroupNCCL::WorkNCCL> Pr...  \n",
       "4  std::shared_ptr<ProcessGroupNCCL::WorkNCCL> Pr...  "
      ]
     },
     "execution_count": 185,
     "metadata": {},
     "output_type": "execute_result"
    }
   ],
   "source": [
    "cpp_aug.head()"
   ]
  },
  {
   "cell_type": "code",
   "execution_count": 186,
   "id": "c0381c17-0b8a-4872-8090-8045a29eee16",
   "metadata": {},
   "outputs": [
    {
     "data": {
      "text/html": [
       "<div>\n",
       "<style scoped>\n",
       "    .dataframe tbody tr th:only-of-type {\n",
       "        vertical-align: middle;\n",
       "    }\n",
       "\n",
       "    .dataframe tbody tr th {\n",
       "        vertical-align: top;\n",
       "    }\n",
       "\n",
       "    .dataframe thead th {\n",
       "        text-align: right;\n",
       "    }\n",
       "</style>\n",
       "<table border=\"1\" class=\"dataframe\">\n",
       "  <thead>\n",
       "    <tr style=\"text-align: right;\">\n",
       "      <th></th>\n",
       "      <th>BUGGY_CODE</th>\n",
       "      <th>FIXED_CODE</th>\n",
       "    </tr>\n",
       "  </thead>\n",
       "  <tbody>\n",
       "    <tr>\n",
       "      <th>count</th>\n",
       "      <td>5355</td>\n",
       "      <td>5355</td>\n",
       "    </tr>\n",
       "    <tr>\n",
       "      <th>unique</th>\n",
       "      <td>2438</td>\n",
       "      <td>329</td>\n",
       "    </tr>\n",
       "    <tr>\n",
       "      <th>top</th>\n",
       "      <td>const auto source_n = n -&gt; sourceRange ( ) . s...</td>\n",
       "      <td>const auto source_n = n -&gt; sourceRange ( ) . s...</td>\n",
       "    </tr>\n",
       "    <tr>\n",
       "      <th>freq</th>\n",
       "      <td>25</td>\n",
       "      <td>45</td>\n",
       "    </tr>\n",
       "  </tbody>\n",
       "</table>\n",
       "</div>"
      ],
      "text/plain": [
       "                                               BUGGY_CODE  \\\n",
       "count                                                5355   \n",
       "unique                                               2438   \n",
       "top     const auto source_n = n -> sourceRange ( ) . s...   \n",
       "freq                                                   25   \n",
       "\n",
       "                                               FIXED_CODE  \n",
       "count                                                5355  \n",
       "unique                                                329  \n",
       "top     const auto source_n = n -> sourceRange ( ) . s...  \n",
       "freq                                                   45  "
      ]
     },
     "execution_count": 186,
     "metadata": {},
     "output_type": "execute_result"
    }
   ],
   "source": [
    "cpp_aug.describe()"
   ]
  },
  {
   "cell_type": "code",
   "execution_count": 187,
   "id": "1b6bfff7-de44-4e0d-bafe-01883831e5a7",
   "metadata": {},
   "outputs": [],
   "source": [
    "unique_py_aug = py_aug.drop_duplicates(subset=['BUGGY_CODE', 'FIXED_CODE'], keep = False, inplace=False)"
   ]
  },
  {
   "cell_type": "code",
   "execution_count": 188,
   "id": "20a98dfa-4de1-4229-b262-9684002d7d37",
   "metadata": {},
   "outputs": [
    {
     "data": {
      "text/html": [
       "<div>\n",
       "<style scoped>\n",
       "    .dataframe tbody tr th:only-of-type {\n",
       "        vertical-align: middle;\n",
       "    }\n",
       "\n",
       "    .dataframe tbody tr th {\n",
       "        vertical-align: top;\n",
       "    }\n",
       "\n",
       "    .dataframe thead th {\n",
       "        text-align: right;\n",
       "    }\n",
       "</style>\n",
       "<table border=\"1\" class=\"dataframe\">\n",
       "  <thead>\n",
       "    <tr style=\"text-align: right;\">\n",
       "      <th></th>\n",
       "      <th>BUGGY_CODE</th>\n",
       "      <th>FIXED_CODE</th>\n",
       "    </tr>\n",
       "  </thead>\n",
       "  <tbody>\n",
       "    <tr>\n",
       "      <th>count</th>\n",
       "      <td>829</td>\n",
       "      <td>829</td>\n",
       "    </tr>\n",
       "    <tr>\n",
       "      <th>unique</th>\n",
       "      <td>829</td>\n",
       "      <td>258</td>\n",
       "    </tr>\n",
       "    <tr>\n",
       "      <th>top</th>\n",
       "      <td>def __sizeof__ ( self ) : return ( super ( _St...</td>\n",
       "      <td>def __rdiv__ ( self , other ) : if self . dtyp...</td>\n",
       "    </tr>\n",
       "    <tr>\n",
       "      <th>freq</th>\n",
       "      <td>1</td>\n",
       "      <td>9</td>\n",
       "    </tr>\n",
       "  </tbody>\n",
       "</table>\n",
       "</div>"
      ],
      "text/plain": [
       "                                               BUGGY_CODE  \\\n",
       "count                                                 829   \n",
       "unique                                                829   \n",
       "top     def __sizeof__ ( self ) : return ( super ( _St...   \n",
       "freq                                                    1   \n",
       "\n",
       "                                               FIXED_CODE  \n",
       "count                                                 829  \n",
       "unique                                                258  \n",
       "top     def __rdiv__ ( self , other ) : if self . dtyp...  \n",
       "freq                                                    9  "
      ]
     },
     "execution_count": 188,
     "metadata": {},
     "output_type": "execute_result"
    }
   ],
   "source": [
    "unique_py_aug.describe()"
   ]
  },
  {
   "cell_type": "code",
   "execution_count": 189,
   "id": "c646e5ca-c0d3-485f-bd45-5646e074bf2c",
   "metadata": {},
   "outputs": [],
   "source": [
    "unique_cpp_aug = cpp_aug.drop_duplicates(subset=['BUGGY_CODE', 'FIXED_CODE'], keep = False, inplace=False)"
   ]
  },
  {
   "cell_type": "code",
   "execution_count": 190,
   "id": "a28b46f9-58fe-429e-8d35-a89572dc00dc",
   "metadata": {},
   "outputs": [
    {
     "data": {
      "text/html": [
       "<div>\n",
       "<style scoped>\n",
       "    .dataframe tbody tr th:only-of-type {\n",
       "        vertical-align: middle;\n",
       "    }\n",
       "\n",
       "    .dataframe tbody tr th {\n",
       "        vertical-align: top;\n",
       "    }\n",
       "\n",
       "    .dataframe thead th {\n",
       "        text-align: right;\n",
       "    }\n",
       "</style>\n",
       "<table border=\"1\" class=\"dataframe\">\n",
       "  <thead>\n",
       "    <tr style=\"text-align: right;\">\n",
       "      <th></th>\n",
       "      <th>BUGGY_CODE</th>\n",
       "      <th>FIXED_CODE</th>\n",
       "    </tr>\n",
       "  </thead>\n",
       "  <tbody>\n",
       "    <tr>\n",
       "      <th>count</th>\n",
       "      <td>2045</td>\n",
       "      <td>2045</td>\n",
       "    </tr>\n",
       "    <tr>\n",
       "      <th>unique</th>\n",
       "      <td>2045</td>\n",
       "      <td>329</td>\n",
       "    </tr>\n",
       "    <tr>\n",
       "      <th>top</th>\n",
       "      <td>std::shared_ptr&lt;ProcessGroupNCCL::WorkNCCL&gt; Pr...</td>\n",
       "      <td>if ( resolver_ ) { if ( auto typePtr = resolve...</td>\n",
       "    </tr>\n",
       "    <tr>\n",
       "      <th>freq</th>\n",
       "      <td>1</td>\n",
       "      <td>22</td>\n",
       "    </tr>\n",
       "  </tbody>\n",
       "</table>\n",
       "</div>"
      ],
      "text/plain": [
       "                                               BUGGY_CODE  \\\n",
       "count                                                2045   \n",
       "unique                                               2045   \n",
       "top     std::shared_ptr<ProcessGroupNCCL::WorkNCCL> Pr...   \n",
       "freq                                                    1   \n",
       "\n",
       "                                               FIXED_CODE  \n",
       "count                                                2045  \n",
       "unique                                                329  \n",
       "top     if ( resolver_ ) { if ( auto typePtr = resolve...  \n",
       "freq                                                   22  "
      ]
     },
     "execution_count": 190,
     "metadata": {},
     "output_type": "execute_result"
    }
   ],
   "source": [
    "unique_cpp_aug.describe()"
   ]
  },
  {
   "cell_type": "code",
   "execution_count": 191,
   "id": "dd0c0041-ba63-470b-b72e-60916c0aa1b5",
   "metadata": {},
   "outputs": [],
   "source": [
    "unique_py_aug.to_csv('../data/py/dl_py_aug.csv', index=False)"
   ]
  },
  {
   "cell_type": "code",
   "execution_count": 192,
   "id": "4ecee98e-9efd-43e9-8ab9-397f35a058df",
   "metadata": {},
   "outputs": [],
   "source": [
    "unique_cpp_aug.to_csv('../data/cpp/dl_cpp_aug.csv', index=False)"
   ]
  },
  {
   "cell_type": "markdown",
   "id": "cfaf28f9-42ce-44e4-8517-996820dace4a",
   "metadata": {},
   "source": [
    "至此，我们完成了数据增强，虽然数据量仍然很少，但是相比原来已经多了不少"
   ]
  }
 ],
 "metadata": {
  "kernelspec": {
   "display_name": "Python 3 (ipykernel)",
   "language": "python",
   "name": "python3"
  },
  "language_info": {
   "codemirror_mode": {
    "name": "ipython",
    "version": 3
   },
   "file_extension": ".py",
   "mimetype": "text/x-python",
   "name": "python",
   "nbconvert_exporter": "python",
   "pygments_lexer": "ipython3",
   "version": "3.8.10"
  }
 },
 "nbformat": 4,
 "nbformat_minor": 5
}
