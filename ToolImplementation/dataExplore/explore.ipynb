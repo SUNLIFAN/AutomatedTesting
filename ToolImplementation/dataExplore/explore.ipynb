{
 "cells": [
  {
   "cell_type": "markdown",
   "id": "91145796-d57c-42b8-8ac8-36ccb1fdc8d7",
   "metadata": {},
   "source": [
    "# 数据处理和分析"
   ]
  },
  {
   "cell_type": "markdown",
   "id": "8d9a5d42-95d2-4eb4-aef9-c9a161e891e3",
   "metadata": {},
   "source": [
    "## 聚合初步清洗和筛选出的数据"
   ]
  },
  {
   "cell_type": "markdown",
   "id": "d341b368-d214-487c-b687-e3f57ebf4f6c",
   "metadata": {},
   "source": [
    "由于数据集中数据的质量较差，我们对数据集进行了人工的清洗和筛选"
   ]
  },
  {
   "cell_type": "code",
   "execution_count": 34,
   "id": "ab7ea0f0-9200-4227-85fa-6dc8f6354964",
   "metadata": {},
   "outputs": [],
   "source": [
    "import pandas as pd"
   ]
  },
  {
   "cell_type": "code",
   "execution_count": 37,
   "id": "59389b31-fd27-4749-9fbc-dfbf692d482a",
   "metadata": {},
   "outputs": [],
   "source": [
    "import re"
   ]
  },
  {
   "cell_type": "code",
   "execution_count": 19,
   "id": "1bb74fd3-d840-4eab-9cb3-146f83718e7d",
   "metadata": {},
   "outputs": [],
   "source": [
    "py_data1 = pd.read_csv('./py/dl_py_clean1.csv')\n",
    "py_data2 = pd.read_csv('./py/dl_py_clean2.csv')\n",
    "py_data3 = pd.read_csv('./py/dl_py_clean3.csv')"
   ]
  },
  {
   "cell_type": "code",
   "execution_count": 24,
   "id": "13935097-6bbe-4483-a8fe-0ef38a18aae6",
   "metadata": {},
   "outputs": [],
   "source": [
    "py_data = pd.concat([py_data1, py_data2, py_data3])"
   ]
  },
  {
   "cell_type": "code",
   "execution_count": 25,
   "id": "c756cd29-367f-4b6b-b591-6aaa3cfeeaf1",
   "metadata": {},
   "outputs": [
    {
     "data": {
      "text/html": [
       "<div>\n",
       "<style scoped>\n",
       "    .dataframe tbody tr th:only-of-type {\n",
       "        vertical-align: middle;\n",
       "    }\n",
       "\n",
       "    .dataframe tbody tr th {\n",
       "        vertical-align: top;\n",
       "    }\n",
       "\n",
       "    .dataframe thead th {\n",
       "        text-align: right;\n",
       "    }\n",
       "</style>\n",
       "<table border=\"1\" class=\"dataframe\">\n",
       "  <thead>\n",
       "    <tr style=\"text-align: right;\">\n",
       "      <th></th>\n",
       "      <th>buggy_code</th>\n",
       "      <th>fixed_code</th>\n",
       "    </tr>\n",
       "  </thead>\n",
       "  <tbody>\n",
       "    <tr>\n",
       "      <th>count</th>\n",
       "      <td>275</td>\n",
       "      <td>275</td>\n",
       "    </tr>\n",
       "    <tr>\n",
       "      <th>unique</th>\n",
       "      <td>269</td>\n",
       "      <td>269</td>\n",
       "    </tr>\n",
       "    <tr>\n",
       "      <th>top</th>\n",
       "      <td>if it % 100 == 0:\\nprint('Iteration %d -- Oute...</td>\n",
       "      <td>if it % 100 == 0:\\nprint('Iteration %d -- Oute...</td>\n",
       "    </tr>\n",
       "    <tr>\n",
       "      <th>freq</th>\n",
       "      <td>3</td>\n",
       "      <td>3</td>\n",
       "    </tr>\n",
       "  </tbody>\n",
       "</table>\n",
       "</div>"
      ],
      "text/plain": [
       "                                               buggy_code  \\\n",
       "count                                                 275   \n",
       "unique                                                269   \n",
       "top     if it % 100 == 0:\\nprint('Iteration %d -- Oute...   \n",
       "freq                                                    3   \n",
       "\n",
       "                                               fixed_code  \n",
       "count                                                 275  \n",
       "unique                                                269  \n",
       "top     if it % 100 == 0:\\nprint('Iteration %d -- Oute...  \n",
       "freq                                                    3  "
      ]
     },
     "execution_count": 25,
     "metadata": {},
     "output_type": "execute_result"
    }
   ],
   "source": [
    "py_data.describe()"
   ]
  },
  {
   "cell_type": "code",
   "execution_count": 29,
   "id": "d36eb990-9b2f-4055-b232-a2b9f4d7f541",
   "metadata": {},
   "outputs": [],
   "source": [
    "cpp_data1 = pd.read_csv('./cpp/dl_cpp_clean1.csv')\n",
    "cpp_data2 = pd.read_csv('./cpp/dl_cpp_clean2.csv')\n",
    "cpp_data3 = pd.read_csv('./cpp/dl_cpp_clean3.csv')"
   ]
  },
  {
   "cell_type": "code",
   "execution_count": 30,
   "id": "e100230f-7c9b-47dc-a5cd-398f5ce7b724",
   "metadata": {},
   "outputs": [],
   "source": [
    "cpp_data = pd.concat([cpp_data1, cpp_data2, cpp_data3])"
   ]
  },
  {
   "cell_type": "code",
   "execution_count": 31,
   "id": "908200d0-ef55-423c-9e79-4da379254bf8",
   "metadata": {},
   "outputs": [
    {
     "data": {
      "text/html": [
       "<div>\n",
       "<style scoped>\n",
       "    .dataframe tbody tr th:only-of-type {\n",
       "        vertical-align: middle;\n",
       "    }\n",
       "\n",
       "    .dataframe tbody tr th {\n",
       "        vertical-align: top;\n",
       "    }\n",
       "\n",
       "    .dataframe thead th {\n",
       "        text-align: right;\n",
       "    }\n",
       "</style>\n",
       "<table border=\"1\" class=\"dataframe\">\n",
       "  <thead>\n",
       "    <tr style=\"text-align: right;\">\n",
       "      <th></th>\n",
       "      <th>buggy_code</th>\n",
       "      <th>fixed_code</th>\n",
       "    </tr>\n",
       "  </thead>\n",
       "  <tbody>\n",
       "    <tr>\n",
       "      <th>count</th>\n",
       "      <td>359</td>\n",
       "      <td>359</td>\n",
       "    </tr>\n",
       "    <tr>\n",
       "      <th>unique</th>\n",
       "      <td>331</td>\n",
       "      <td>331</td>\n",
       "    </tr>\n",
       "    <tr>\n",
       "      <th>top</th>\n",
       "      <td>const auto source_n = n-&gt;sourceRange().source(...</td>\n",
       "      <td>const auto source_n = n-&gt;sourceRange().source(...</td>\n",
       "    </tr>\n",
       "    <tr>\n",
       "      <th>freq</th>\n",
       "      <td>3</td>\n",
       "      <td>3</td>\n",
       "    </tr>\n",
       "  </tbody>\n",
       "</table>\n",
       "</div>"
      ],
      "text/plain": [
       "                                               buggy_code  \\\n",
       "count                                                 359   \n",
       "unique                                                331   \n",
       "top     const auto source_n = n->sourceRange().source(...   \n",
       "freq                                                    3   \n",
       "\n",
       "                                               fixed_code  \n",
       "count                                                 359  \n",
       "unique                                                331  \n",
       "top     const auto source_n = n->sourceRange().source(...  \n",
       "freq                                                    3  "
      ]
     },
     "execution_count": 31,
     "metadata": {},
     "output_type": "execute_result"
    }
   ],
   "source": [
    "cpp_data.describe()"
   ]
  },
  {
   "cell_type": "markdown",
   "id": "28126e3d-0f4a-4405-941e-3d441d5cb21e",
   "metadata": {},
   "source": [
    "经过我们的人工清洗和筛选，可以看出，有效的数据非常少，在提供的总共 12000 条左右的数据中，有效的数据只有不到 700 条."
   ]
  },
  {
   "cell_type": "code",
   "execution_count": 32,
   "id": "fe6354b2-50c9-48bc-a8cd-5ac285cd813b",
   "metadata": {},
   "outputs": [],
   "source": [
    "py_data.to_csv('./final_data/dl_py.csv', index=False)"
   ]
  },
  {
   "cell_type": "code",
   "execution_count": 33,
   "id": "0ef58d05-6c1b-4da2-b9a3-a55a316b177d",
   "metadata": {},
   "outputs": [],
   "source": [
    "cpp_data.to_csv('./final_data/dl_cpp.csv', index=False)"
   ]
  },
  {
   "cell_type": "markdown",
   "id": "2f888281-98c7-4fff-86c2-fc9e7459c1cf",
   "metadata": {},
   "source": [
    "得到了聚合之后的数据，我们使用简单的词法分析工具来对程序片段进行 tokenize, 这里我们使用 Antlr 来生成词法分析器，详情可见 Github 页面 [SimpleLexicalTools](https://github.com/SUNLIFAN/SimpleLexicalTools)"
   ]
  },
  {
   "cell_type": "markdown",
   "id": "ba6213ba-bf42-4cd2-9c4e-9a321902a8f1",
   "metadata": {},
   "source": [
    "## 分析 tokenization 之后的程序片段"
   ]
  },
  {
   "cell_type": "code",
   "execution_count": 46,
   "id": "fc7e97ef-a224-46b1-a3bb-9800541e4579",
   "metadata": {},
   "outputs": [],
   "source": [
    "tokenized_py = pd.read_csv('./final_tokenized_data/dl_py_tokenized.csv')"
   ]
  },
  {
   "cell_type": "code",
   "execution_count": 47,
   "id": "7fa0e831-9be1-48bc-91e4-0556d2483e05",
   "metadata": {},
   "outputs": [],
   "source": [
    "tokenized_cpp = pd.read_csv('./final_tokenized_data/dl_cpp_tokenized.csv')"
   ]
  },
  {
   "cell_type": "code",
   "execution_count": 50,
   "id": "56097418-6620-4079-8ced-c66392dae352",
   "metadata": {},
   "outputs": [
    {
     "data": {
      "text/html": [
       "<div>\n",
       "<style scoped>\n",
       "    .dataframe tbody tr th:only-of-type {\n",
       "        vertical-align: middle;\n",
       "    }\n",
       "\n",
       "    .dataframe tbody tr th {\n",
       "        vertical-align: top;\n",
       "    }\n",
       "\n",
       "    .dataframe thead th {\n",
       "        text-align: right;\n",
       "    }\n",
       "</style>\n",
       "<table border=\"1\" class=\"dataframe\">\n",
       "  <thead>\n",
       "    <tr style=\"text-align: right;\">\n",
       "      <th></th>\n",
       "      <th>BUGGY_CODE</th>\n",
       "      <th>FIXED_CODE</th>\n",
       "    </tr>\n",
       "  </thead>\n",
       "  <tbody>\n",
       "    <tr>\n",
       "      <th>0</th>\n",
       "      <td>def __sizeof__ ( self ) : return super ( _Stor...</td>\n",
       "      <td>def __sizeof__ ( self ) : return ( super ( _St...</td>\n",
       "    </tr>\n",
       "    <tr>\n",
       "      <th>1</th>\n",
       "      <td>self . quant_min : int = quant_min self . quan...</td>\n",
       "      <td>self . quant_min : int = quant_min self . quan...</td>\n",
       "    </tr>\n",
       "    <tr>\n",
       "      <th>2</th>\n",
       "      <td>def get_default_qat_qconfig ( backend = gemm v...</td>\n",
       "      <td>def get_default_qat_qconfig ( backend = gemm v...</td>\n",
       "    </tr>\n",
       "    <tr>\n",
       "      <th>3</th>\n",
       "      <td>exp_avg . mul_ ( beta1 ) . add_ ( grad , alpha...</td>\n",
       "      <td>exp_avg . mul_ ( beta1 ) . add_ ( grad , alpha...</td>\n",
       "    </tr>\n",
       "    <tr>\n",
       "      <th>4</th>\n",
       "      <td>def get_post_build_suffix ( self ) -&gt; str : if...</td>\n",
       "      <td>def get_post_build_suffix ( self ) -&gt; str : if...</td>\n",
       "    </tr>\n",
       "  </tbody>\n",
       "</table>\n",
       "</div>"
      ],
      "text/plain": [
       "                                          BUGGY_CODE  \\\n",
       "0  def __sizeof__ ( self ) : return super ( _Stor...   \n",
       "1  self . quant_min : int = quant_min self . quan...   \n",
       "2  def get_default_qat_qconfig ( backend = gemm v...   \n",
       "3  exp_avg . mul_ ( beta1 ) . add_ ( grad , alpha...   \n",
       "4  def get_post_build_suffix ( self ) -> str : if...   \n",
       "\n",
       "                                          FIXED_CODE  \n",
       "0  def __sizeof__ ( self ) : return ( super ( _St...  \n",
       "1  self . quant_min : int = quant_min self . quan...  \n",
       "2  def get_default_qat_qconfig ( backend = gemm v...  \n",
       "3  exp_avg . mul_ ( beta1 ) . add_ ( grad , alpha...  \n",
       "4  def get_post_build_suffix ( self ) -> str : if...  "
      ]
     },
     "execution_count": 50,
     "metadata": {},
     "output_type": "execute_result"
    }
   ],
   "source": [
    "tokenized_py.head()"
   ]
  },
  {
   "cell_type": "code",
   "execution_count": 51,
   "id": "81c02ab4-2f5a-4920-b27c-60e99b61ce0e",
   "metadata": {},
   "outputs": [
    {
     "data": {
      "text/html": [
       "<div>\n",
       "<style scoped>\n",
       "    .dataframe tbody tr th:only-of-type {\n",
       "        vertical-align: middle;\n",
       "    }\n",
       "\n",
       "    .dataframe tbody tr th {\n",
       "        vertical-align: top;\n",
       "    }\n",
       "\n",
       "    .dataframe thead th {\n",
       "        text-align: right;\n",
       "    }\n",
       "</style>\n",
       "<table border=\"1\" class=\"dataframe\">\n",
       "  <thead>\n",
       "    <tr style=\"text-align: right;\">\n",
       "      <th></th>\n",
       "      <th>BUGGY_CODE</th>\n",
       "      <th>FIXED_CODE</th>\n",
       "    </tr>\n",
       "  </thead>\n",
       "  <tbody>\n",
       "    <tr>\n",
       "      <th>0</th>\n",
       "      <td>std::shared_ptr&lt;ProcessGroupNCCL::WorkNCCL&gt; Pr...</td>\n",
       "      <td>std::shared_ptr&lt;ProcessGroupNCCL::WorkNCCL&gt; Pr...</td>\n",
       "    </tr>\n",
       "    <tr>\n",
       "      <th>1</th>\n",
       "      <td>std::chrono::milliseconds ( kWaitForAbortCommS...</td>\n",
       "      <td>std::chrono::milliseconds ( kWaitForAbortCommS...</td>\n",
       "    </tr>\n",
       "    <tr>\n",
       "      <th>2</th>\n",
       "      <td>if ( rank_ == 0 | | ( commType != NCCLCommType...</td>\n",
       "      <td>if ( rank_ == 0 | | ( isP2POp ( opType ) &amp; &amp; p...</td>\n",
       "    </tr>\n",
       "    <tr>\n",
       "      <th>3</th>\n",
       "      <td>int numRanks , rank ; if ( commType == NCCLCom...</td>\n",
       "      <td>int numRanks , rank ; if ( sP2POp ( opType ) )...</td>\n",
       "    </tr>\n",
       "    <tr>\n",
       "      <th>4</th>\n",
       "      <td>if ( str != \"None\" &amp; &amp; str != \"\" ) { throw std...</td>\n",
       "      <td>if ( str != \"None\" ) { default_string = parse_...</td>\n",
       "    </tr>\n",
       "  </tbody>\n",
       "</table>\n",
       "</div>"
      ],
      "text/plain": [
       "                                          BUGGY_CODE  \\\n",
       "0  std::shared_ptr<ProcessGroupNCCL::WorkNCCL> Pr...   \n",
       "1  std::chrono::milliseconds ( kWaitForAbortCommS...   \n",
       "2  if ( rank_ == 0 | | ( commType != NCCLCommType...   \n",
       "3  int numRanks , rank ; if ( commType == NCCLCom...   \n",
       "4  if ( str != \"None\" & & str != \"\" ) { throw std...   \n",
       "\n",
       "                                          FIXED_CODE  \n",
       "0  std::shared_ptr<ProcessGroupNCCL::WorkNCCL> Pr...  \n",
       "1  std::chrono::milliseconds ( kWaitForAbortCommS...  \n",
       "2  if ( rank_ == 0 | | ( isP2POp ( opType ) & & p...  \n",
       "3  int numRanks , rank ; if ( sP2POp ( opType ) )...  \n",
       "4  if ( str != \"None\" ) { default_string = parse_...  "
      ]
     },
     "execution_count": 51,
     "metadata": {},
     "output_type": "execute_result"
    }
   ],
   "source": [
    "tokenized_cpp.head()"
   ]
  },
  {
   "cell_type": "code",
   "execution_count": 52,
   "id": "89475d75-edac-4aff-8858-bde9412031cf",
   "metadata": {},
   "outputs": [],
   "source": [
    "def get_len_in_tokens(data):\n",
    "    len_in_tokens = []\n",
    "    data_len = data.shape[0]\n",
    "    for i in range(data_len):\n",
    "        buggy_code = data.iloc[i]['BUGGY_CODE']\n",
    "        fixed_code = data.iloc[i]['FIXED_CODE']\n",
    "        buggy_tokens = re.split('\\s+', buggy_code)\n",
    "        fixed_tokens = re.split('\\s+', fixed_code)\n",
    "        len_in_tokens.append(max(len(buggy_tokens), len(fixed_tokens)))\n",
    "    return len_in_tokens"
   ]
  },
  {
   "cell_type": "code",
   "execution_count": 53,
   "id": "14e5c792-6060-4f5f-b320-78e9d1a58684",
   "metadata": {},
   "outputs": [],
   "source": [
    "py_len_in_tokens = get_len_in_tokens(tokenized_py)"
   ]
  },
  {
   "cell_type": "code",
   "execution_count": 54,
   "id": "b5ae3b76-c68d-40d1-b9ab-57360d0be26f",
   "metadata": {},
   "outputs": [
    {
     "name": "stdout",
     "output_type": "stream",
     "text": [
      "max len in tokens of py code 102\n"
     ]
    }
   ],
   "source": [
    "print('max len in tokens of py code', max(py_len_in_tokens))"
   ]
  },
  {
   "cell_type": "code",
   "execution_count": 56,
   "id": "ad787f72-769c-4b1c-ac5a-e9816f9e58d8",
   "metadata": {},
   "outputs": [
    {
     "name": "stdout",
     "output_type": "stream",
     "text": [
      "avg len in tokens of py code 47\n"
     ]
    }
   ],
   "source": [
    "print('avg len in tokens of py code', int(sum(py_len_in_tokens) / len(py_len_in_tokens)))"
   ]
  },
  {
   "cell_type": "code",
   "execution_count": 57,
   "id": "5909e127-9304-404a-b87d-9bd1f6768358",
   "metadata": {},
   "outputs": [],
   "source": [
    "cpp_len_in_tokens = get_len_in_tokens(tokenized_cpp)"
   ]
  },
  {
   "cell_type": "code",
   "execution_count": 58,
   "id": "bcff8e9e-7246-4592-990d-43313b842598",
   "metadata": {},
   "outputs": [
    {
     "name": "stdout",
     "output_type": "stream",
     "text": [
      "max len in tokens of cpp code 127\n"
     ]
    }
   ],
   "source": [
    "print('max len in tokens of cpp code', max(cpp_len_in_tokens))"
   ]
  },
  {
   "cell_type": "code",
   "execution_count": 59,
   "id": "5fb525ef-9bd3-42c4-a5d7-d69808a063fd",
   "metadata": {},
   "outputs": [
    {
     "name": "stdout",
     "output_type": "stream",
     "text": [
      "avg len in tokens of cpp code 46\n"
     ]
    }
   ],
   "source": [
    "print('avg len in tokens of cpp code', int(sum(cpp_len_in_tokens) / len(cpp_len_in_tokens)))"
   ]
  },
  {
   "cell_type": "markdown",
   "id": "5cbf5f01-6d5f-42a7-b2ef-126b60527211",
   "metadata": {},
   "source": [
    "下面分别看一下 python 和 cpp 程序片段的 token 数量的分布"
   ]
  },
  {
   "cell_type": "code",
   "execution_count": 114,
   "id": "f2b706dd-adc9-45f1-a2cc-dc9a0bebb385",
   "metadata": {},
   "outputs": [],
   "source": [
    "import matplotlib.pyplot as plt"
   ]
  },
  {
   "cell_type": "code",
   "execution_count": 69,
   "id": "c6283f3c-87c0-48f4-9cef-007198aa727f",
   "metadata": {},
   "outputs": [],
   "source": [
    "py_len_in_tokens = sorted(py_len_in_tokens)\n",
    "cpp_len_in_tokens = sorted(cpp_len_in_tokens)"
   ]
  },
  {
   "cell_type": "code",
   "execution_count": 73,
   "id": "b6d7f955-70ac-4a98-8553-c19e9fec9347",
   "metadata": {},
   "outputs": [],
   "source": [
    "freq_py_tokens = [0] * (max(py_len_in_tokens) + 10)\n",
    "freq_cpp_tokens = [0] * (max(cpp_len_in_tokens) + 10)"
   ]
  },
  {
   "cell_type": "code",
   "execution_count": 74,
   "id": "d8afc5bb-ca9c-413a-9877-9eb414d62418",
   "metadata": {},
   "outputs": [],
   "source": [
    "for token_len in py_len_in_tokens:\n",
    "    freq_py_tokens[token_len] += 1\n",
    "for token_len in cpp_len_in_tokens:\n",
    "    freq_cpp_tokens[token_len] += 1"
   ]
  },
  {
   "cell_type": "code",
   "execution_count": 116,
   "id": "1f665f85-2491-4ce5-8a45-006b814c4682",
   "metadata": {},
   "outputs": [
    {
     "data": {
      "image/png": "[encoded data removed]",
      "text/plain": [
       "<Figure size 432x288 with 1 Axes>"
      ]
     },
     "metadata": {
      "needs_background": "light"
     },
     "output_type": "display_data"
    }
   ],
   "source": [
    "plt.plot(list(range(len(freq_py_tokens))), freq_py_tokens)\n",
    "plt.show()"
   ]
  },
  {
   "cell_type": "code",
   "execution_count": 117,
   "id": "1050dcf0-0c73-4e27-bf25-d0cfa6746a82",
   "metadata": {},
   "outputs": [
    {
     "data": {
      "image/png": "[encoded data removed]",
      "text/plain": [
       "<Figure size 432x288 with 1 Axes>"
      ]
     },
     "metadata": {
      "needs_background": "light"
     },
     "output_type": "display_data"
    }
   ],
   "source": [
    "plt.plot(list(range(len(freq_cpp_tokens))), freq_cpp_tokens)\n",
    "plt.show()"
   ]
  },
  {
   "cell_type": "markdown",
   "id": "f6a29afd-378f-4c71-8f9c-56c389813fa3",
   "metadata": {},
   "source": [
    "根据得到的数据我们绘制了 token 数量频率的分布图，可以看到基本上所有的程序片段长度都在 100 个 token 以下，并且 60 个 token 以下的"
   ]
  },
  {
   "cell_type": "code",
   "execution_count": 61,
   "id": "e056d91b-6823-4855-9d7c-7e001a39a175",
   "metadata": {},
   "outputs": [],
   "source": [
    "def get_all_vocab(data):\n",
    "    vocab = []\n",
    "    data_len = data.shape[0]\n",
    "    for i in range(data_len):\n",
    "        tokens = re.split('\\s+', data.iloc[i]['BUGGY_CODE'])\n",
    "        vocab += tokens\n",
    "        tokens = re.split('\\s+', data.iloc[i]['FIXED_CODE'])\n",
    "        vocab += tokens\n",
    "    return list(set(vocab))"
   ]
  },
  {
   "cell_type": "code",
   "execution_count": 62,
   "id": "1e54e369-e964-4d83-b85c-7553124e45e0",
   "metadata": {},
   "outputs": [],
   "source": [
    "py_vocab = get_all_vocab(tokenized_py)"
   ]
  },
  {
   "cell_type": "code",
   "execution_count": 63,
   "id": "502f91a6-beba-46e8-bc47-f198cd6ee882",
   "metadata": {},
   "outputs": [],
   "source": [
    "cpp_vocab = get_all_vocab(tokenized_cpp)"
   ]
  },
  {
   "cell_type": "code",
   "execution_count": 64,
   "id": "283b3360-5692-48ba-ac02-80b8efece327",
   "metadata": {},
   "outputs": [
    {
     "data": {
      "text/plain": [
       "1866"
      ]
     },
     "execution_count": 64,
     "metadata": {},
     "output_type": "execute_result"
    }
   ],
   "source": [
    "len(py_vocab)"
   ]
  },
  {
   "cell_type": "code",
   "execution_count": 65,
   "id": "65dc0587-c2b1-4cd8-85ca-4fde18338a99",
   "metadata": {},
   "outputs": [
    {
     "data": {
      "text/plain": [
       "2009"
      ]
     },
     "execution_count": 65,
     "metadata": {},
     "output_type": "execute_result"
    }
   ],
   "source": [
    "len(cpp_vocab)"
   ]
  },
  {
   "cell_type": "markdown",
   "id": "18ef4e01-f251-4fc4-a7b2-123d75e8d2c1",
   "metadata": {},
   "source": [
    "在以往一些基于深度学习的程序修复技术的研究中，会对代码片段进行 Code Abstraction，以解决 vocabulary 太大的问题，但是这里并不太多，并且由于数据集中的程序片段过于残破，无法进行语法分析，故不进行 Code Abstraction 的处理."
   ]
  }
 ],
 "metadata": {
  "kernelspec": {
   "display_name": "Python 3 (ipykernel)",
   "language": "python",
   "name": "python3"
  },
  "language_info": {
   "codemirror_mode": {
    "name": "ipython",
    "version": 3
   },
   "file_extension": ".py",
   "mimetype": "text/x-python",
   "name": "python",
   "nbconvert_exporter": "python",
   "pygments_lexer": "ipython3",
   "version": "3.8.10"
  }
 },
 "nbformat": 4,
 "nbformat_minor": 5
}
