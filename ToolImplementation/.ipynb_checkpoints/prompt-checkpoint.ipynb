{
 "cells": [
  {
   "cell_type": "markdown",
   "id": "033da815-1424-4643-8242-083c32442e44",
   "metadata": {},
   "source": [
    "# 合并数据集并加上 prompt"
   ]
  },
  {
   "cell_type": "code",
   "execution_count": 15,
   "id": "e9c4ce0b-249a-4e4e-bb27-c45e0623e952",
   "metadata": {},
   "outputs": [],
   "source": [
    "p1_py = '# this is a buggy python program '\n",
    "p2_py = '# below is fixed python program '"
   ]
  },
  {
   "cell_type": "code",
   "execution_count": 16,
   "id": "5cba3390-787f-4f4c-99d5-ad46b59d64ce",
   "metadata": {},
   "outputs": [],
   "source": [
    "p1_cpp = '/*this is a buggy cpp program */ '\n",
    "p2_cpp = '/* below is fixed cpp program */ '"
   ]
  },
  {
   "cell_type": "code",
   "execution_count": 17,
   "id": "12e8209b-1d0e-48a0-8134-e919f0f5a53e",
   "metadata": {},
   "outputs": [],
   "source": [
    "prefix = ['train', 'valid', 'test']"
   ]
  },
  {
   "cell_type": "code",
   "execution_count": 18,
   "id": "97ae75e2-53d5-439f-94b1-d9a5411dac16",
   "metadata": {},
   "outputs": [],
   "source": [
    "data_dirs = ['cpp', 'py']"
   ]
  },
  {
   "cell_type": "code",
   "execution_count": 19,
   "id": "633e9c08-4183-4bcc-a932-f4c927e6af0b",
   "metadata": {},
   "outputs": [],
   "source": [
    "for data_dir in data_dirs:\n",
    "    if data_dir == 'py':\n",
    "        p1 = p1_py\n",
    "        p2 = p2_py\n",
    "    else:\n",
    "        p1 = p1_cpp\n",
    "        p2 = p2_cpp\n",
    "    for pre in prefix:\n",
    "        filename = pre + '.buggy-fixed.buggy'\n",
    "        with open('./' + data_dir + '/' + filename, 'r') as f1, open('./' + data_dir + '_prompted/' + filename, 'w') as f2:\n",
    "            for line in f1:\n",
    "                f2.write(p1 + line.strip() + p2 + '\\n')"
   ]
  },
  {
   "cell_type": "code",
   "execution_count": null,
   "id": "63092ee6-7d80-4902-b810-985ed9ff6759",
   "metadata": {},
   "outputs": [],
   "source": []
  }
 ],
 "metadata": {
  "kernelspec": {
   "display_name": "Python 3 (ipykernel)",
   "language": "python",
   "name": "python3"
  },
  "language_info": {
   "codemirror_mode": {
    "name": "ipython",
    "version": 3
   },
   "file_extension": ".py",
   "mimetype": "text/x-python",
   "name": "python",
   "nbconvert_exporter": "python",
   "pygments_lexer": "ipython3",
   "version": "3.8.10"
  }
 },
 "nbformat": 4,
 "nbformat_minor": 5
}
