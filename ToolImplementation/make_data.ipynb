{
 "cells": [
  {
   "cell_type": "code",
   "execution_count": 52,
   "id": "12a7927d-4d7f-4112-a1dc-0bc8ccd04542",
   "metadata": {},
   "outputs": [],
   "source": [
    "import pandas as pd"
   ]
  },
  {
   "cell_type": "code",
   "execution_count": 53,
   "id": "13a6e934-745e-4f8f-8283-babd084d3e52",
   "metadata": {},
   "outputs": [],
   "source": [
    "cpp_data = pd.read_csv('../AutomatedTesting/ToolImplementation/data/cpp/dl_cpp_aug.csv')"
   ]
  },
  {
   "cell_type": "code",
   "execution_count": 54,
   "id": "6c6732e2-d89e-4b6b-b979-b4236a815e5a",
   "metadata": {
    "tags": []
   },
   "outputs": [
    {
     "data": {
      "text/html": [
       "<div>\n",
       "<style scoped>\n",
       "    .dataframe tbody tr th:only-of-type {\n",
       "        vertical-align: middle;\n",
       "    }\n",
       "\n",
       "    .dataframe tbody tr th {\n",
       "        vertical-align: top;\n",
       "    }\n",
       "\n",
       "    .dataframe thead th {\n",
       "        text-align: right;\n",
       "    }\n",
       "</style>\n",
       "<table border=\"1\" class=\"dataframe\">\n",
       "  <thead>\n",
       "    <tr style=\"text-align: right;\">\n",
       "      <th></th>\n",
       "      <th>BUGGY_CODE</th>\n",
       "      <th>FIXED_CODE</th>\n",
       "    </tr>\n",
       "  </thead>\n",
       "  <tbody>\n",
       "    <tr>\n",
       "      <th>0</th>\n",
       "      <td>if ( y::is_none ( size ) ) { d -&gt; set_size ( p...</td>\n",
       "      <td>if ( y::is_none ( size ) ) { d -&gt; set_size ( p...</td>\n",
       "    </tr>\n",
       "    <tr>\n",
       "      <th>1</th>\n",
       "      <td>if ( y::is_none ( size ) ) { d -&gt; set_size ( p...</td>\n",
       "      <td>if ( y::is_none ( size ) ) { d -&gt; set_size ( p...</td>\n",
       "    </tr>\n",
       "    <tr>\n",
       "      <th>2</th>\n",
       "      <td>line_end = start ( ) ; while ( line_start &lt; ra...</td>\n",
       "      <td>line_end = start ( ) ; while ( line_start &lt; ra...</td>\n",
       "    </tr>\n",
       "    <tr>\n",
       "      <th>3</th>\n",
       "      <td>line_end = start ( ) ; while ( line_start &lt; ra...</td>\n",
       "      <td>line_end = start ( ) ; while ( line_start &lt; ra...</td>\n",
       "    </tr>\n",
       "    <tr>\n",
       "      <th>4</th>\n",
       "      <td>line_end = start ( ) ; while ( line_start &lt; ra...</td>\n",
       "      <td>line_end = start ( ) ; while ( line_start &lt; ra...</td>\n",
       "    </tr>\n",
       "  </tbody>\n",
       "</table>\n",
       "</div>"
      ],
      "text/plain": [
       "                                          BUGGY_CODE  \\\n",
       "0  if ( y::is_none ( size ) ) { d -> set_size ( p...   \n",
       "1  if ( y::is_none ( size ) ) { d -> set_size ( p...   \n",
       "2  line_end = start ( ) ; while ( line_start < ra...   \n",
       "3  line_end = start ( ) ; while ( line_start < ra...   \n",
       "4  line_end = start ( ) ; while ( line_start < ra...   \n",
       "\n",
       "                                          FIXED_CODE  \n",
       "0  if ( y::is_none ( size ) ) { d -> set_size ( p...  \n",
       "1  if ( y::is_none ( size ) ) { d -> set_size ( p...  \n",
       "2  line_end = start ( ) ; while ( line_start < ra...  \n",
       "3  line_end = start ( ) ; while ( line_start < ra...  \n",
       "4  line_end = start ( ) ; while ( line_start < ra...  "
      ]
     },
     "execution_count": 54,
     "metadata": {},
     "output_type": "execute_result"
    }
   ],
   "source": [
    "cpp_data.head()"
   ]
  },
  {
   "cell_type": "code",
   "execution_count": 55,
   "id": "504c1fe0-aaf5-492a-be6e-81caa6733485",
   "metadata": {},
   "outputs": [
    {
     "data": {
      "text/html": [
       "<div>\n",
       "<style scoped>\n",
       "    .dataframe tbody tr th:only-of-type {\n",
       "        vertical-align: middle;\n",
       "    }\n",
       "\n",
       "    .dataframe tbody tr th {\n",
       "        vertical-align: top;\n",
       "    }\n",
       "\n",
       "    .dataframe thead th {\n",
       "        text-align: right;\n",
       "    }\n",
       "</style>\n",
       "<table border=\"1\" class=\"dataframe\">\n",
       "  <thead>\n",
       "    <tr style=\"text-align: right;\">\n",
       "      <th></th>\n",
       "      <th>BUGGY_CODE</th>\n",
       "      <th>FIXED_CODE</th>\n",
       "    </tr>\n",
       "  </thead>\n",
       "  <tbody>\n",
       "    <tr>\n",
       "      <th>count</th>\n",
       "      <td>842</td>\n",
       "      <td>842</td>\n",
       "    </tr>\n",
       "    <tr>\n",
       "      <th>unique</th>\n",
       "      <td>842</td>\n",
       "      <td>257</td>\n",
       "    </tr>\n",
       "    <tr>\n",
       "      <th>top</th>\n",
       "      <td>if ( y::is_none ( size ) ) { d -&gt; set_size ( p...</td>\n",
       "      <td>std::map &lt; ParallelType , bool &gt; ParallelTypeB...</td>\n",
       "    </tr>\n",
       "    <tr>\n",
       "      <th>freq</th>\n",
       "      <td>1</td>\n",
       "      <td>7</td>\n",
       "    </tr>\n",
       "  </tbody>\n",
       "</table>\n",
       "</div>"
      ],
      "text/plain": [
       "                                               BUGGY_CODE  \\\n",
       "count                                                 842   \n",
       "unique                                                842   \n",
       "top     if ( y::is_none ( size ) ) { d -> set_size ( p...   \n",
       "freq                                                    1   \n",
       "\n",
       "                                               FIXED_CODE  \n",
       "count                                                 842  \n",
       "unique                                                257  \n",
       "top     std::map < ParallelType , bool > ParallelTypeB...  \n",
       "freq                                                    7  "
      ]
     },
     "execution_count": 55,
     "metadata": {},
     "output_type": "execute_result"
    }
   ],
   "source": [
    "cpp_data.describe()"
   ]
  },
  {
   "cell_type": "code",
   "execution_count": 56,
   "id": "6651e204-7228-4bd8-a89d-b645a6ed5793",
   "metadata": {},
   "outputs": [],
   "source": [
    "with open('./cpp/train.buggy-fixed.buggy', 'w') as f1, open('./cpp/train.buggy-fixed.fixed', 'w') as f2:\n",
    "    length = cpp_data.shape[0]\n",
    "    for i in range(length):\n",
    "        f1.write(cpp_data.iloc[i]['BUGGY_CODE'] + '\\n')\n",
    "        f2.write(cpp_data.iloc[i]['FIXED_CODE'] + '\\n')"
   ]
  },
  {
   "cell_type": "code",
   "execution_count": 57,
   "id": "d522c1ac-5acf-44f2-8a14-a80b8c77b333",
   "metadata": {},
   "outputs": [],
   "source": [
    "py_data = pd.read_csv('../AutomatedTesting/ToolImplementation/data/py/dl_py_aug.csv')"
   ]
  },
  {
   "cell_type": "code",
   "execution_count": 58,
   "id": "70bd8baf-be9c-4586-b554-7cad006d1f79",
   "metadata": {},
   "outputs": [
    {
     "data": {
      "text/html": [
       "<div>\n",
       "<style scoped>\n",
       "    .dataframe tbody tr th:only-of-type {\n",
       "        vertical-align: middle;\n",
       "    }\n",
       "\n",
       "    .dataframe tbody tr th {\n",
       "        vertical-align: top;\n",
       "    }\n",
       "\n",
       "    .dataframe thead th {\n",
       "        text-align: right;\n",
       "    }\n",
       "</style>\n",
       "<table border=\"1\" class=\"dataframe\">\n",
       "  <thead>\n",
       "    <tr style=\"text-align: right;\">\n",
       "      <th></th>\n",
       "      <th>BUGGY_CODE</th>\n",
       "      <th>FIXED_CODE</th>\n",
       "    </tr>\n",
       "  </thead>\n",
       "  <tbody>\n",
       "    <tr>\n",
       "      <th>0</th>\n",
       "      <td>if len ( buffers ) &gt; 0 : raise RuntimeError ( ...</td>\n",
       "      <td>if len ( buffers ) &gt; 0 : raise RuntimeError ( ...</td>\n",
       "    </tr>\n",
       "    <tr>\n",
       "      <th>1</th>\n",
       "      <td>if len ( buffers ) &gt; 0 : raise RuntimeError ( ...</td>\n",
       "      <td>if len ( buffers ) &gt; 0 : raise RuntimeError ( ...</td>\n",
       "    </tr>\n",
       "    <tr>\n",
       "      <th>2</th>\n",
       "      <td>def arguments ( func : FunctionSchema ) -&gt; Seq...</td>\n",
       "      <td>def arguments ( func : FunctionSchema ) -&gt; Seq...</td>\n",
       "    </tr>\n",
       "    <tr>\n",
       "      <th>3</th>\n",
       "      <td>def arguments ( func : FunctionSchema ) -&gt; Seq...</td>\n",
       "      <td>def arguments ( func : FunctionSchema ) -&gt; Seq...</td>\n",
       "    </tr>\n",
       "    <tr>\n",
       "      <th>4</th>\n",
       "      <td>def arguments ( func : ) -&gt; Sequence [ MetaArg...</td>\n",
       "      <td>def arguments ( func : FunctionSchema ) -&gt; Seq...</td>\n",
       "    </tr>\n",
       "  </tbody>\n",
       "</table>\n",
       "</div>"
      ],
      "text/plain": [
       "                                          BUGGY_CODE  \\\n",
       "0  if len ( buffers ) > 0 : raise RuntimeError ( ...   \n",
       "1  if len ( buffers ) > 0 : raise RuntimeError ( ...   \n",
       "2  def arguments ( func : FunctionSchema ) -> Seq...   \n",
       "3  def arguments ( func : FunctionSchema ) -> Seq...   \n",
       "4  def arguments ( func : ) -> Sequence [ MetaArg...   \n",
       "\n",
       "                                          FIXED_CODE  \n",
       "0  if len ( buffers ) > 0 : raise RuntimeError ( ...  \n",
       "1  if len ( buffers ) > 0 : raise RuntimeError ( ...  \n",
       "2  def arguments ( func : FunctionSchema ) -> Seq...  \n",
       "3  def arguments ( func : FunctionSchema ) -> Seq...  \n",
       "4  def arguments ( func : FunctionSchema ) -> Seq...  "
      ]
     },
     "execution_count": 58,
     "metadata": {},
     "output_type": "execute_result"
    }
   ],
   "source": [
    "py_data.head()"
   ]
  },
  {
   "cell_type": "code",
   "execution_count": 59,
   "id": "8a903f3a-a474-4bcc-80f2-f203de772306",
   "metadata": {},
   "outputs": [
    {
     "data": {
      "text/html": [
       "<div>\n",
       "<style scoped>\n",
       "    .dataframe tbody tr th:only-of-type {\n",
       "        vertical-align: middle;\n",
       "    }\n",
       "\n",
       "    .dataframe tbody tr th {\n",
       "        vertical-align: top;\n",
       "    }\n",
       "\n",
       "    .dataframe thead th {\n",
       "        text-align: right;\n",
       "    }\n",
       "</style>\n",
       "<table border=\"1\" class=\"dataframe\">\n",
       "  <thead>\n",
       "    <tr style=\"text-align: right;\">\n",
       "      <th></th>\n",
       "      <th>BUGGY_CODE</th>\n",
       "      <th>FIXED_CODE</th>\n",
       "    </tr>\n",
       "  </thead>\n",
       "  <tbody>\n",
       "    <tr>\n",
       "      <th>count</th>\n",
       "      <td>506</td>\n",
       "      <td>506</td>\n",
       "    </tr>\n",
       "    <tr>\n",
       "      <th>unique</th>\n",
       "      <td>506</td>\n",
       "      <td>203</td>\n",
       "    </tr>\n",
       "    <tr>\n",
       "      <th>top</th>\n",
       "      <td>if len ( buffers ) &gt; 0 : raise RuntimeError ( ...</td>\n",
       "      <td>prev_node = get_normalized_nth_input ( node , ...</td>\n",
       "    </tr>\n",
       "    <tr>\n",
       "      <th>freq</th>\n",
       "      <td>1</td>\n",
       "      <td>5</td>\n",
       "    </tr>\n",
       "  </tbody>\n",
       "</table>\n",
       "</div>"
      ],
      "text/plain": [
       "                                               BUGGY_CODE  \\\n",
       "count                                                 506   \n",
       "unique                                                506   \n",
       "top     if len ( buffers ) > 0 : raise RuntimeError ( ...   \n",
       "freq                                                    1   \n",
       "\n",
       "                                               FIXED_CODE  \n",
       "count                                                 506  \n",
       "unique                                                203  \n",
       "top     prev_node = get_normalized_nth_input ( node , ...  \n",
       "freq                                                    5  "
      ]
     },
     "execution_count": 59,
     "metadata": {},
     "output_type": "execute_result"
    }
   ],
   "source": [
    "py_data.describe()"
   ]
  },
  {
   "cell_type": "code",
   "execution_count": 60,
   "id": "652be631-0eec-4880-94ad-d0641829fb94",
   "metadata": {},
   "outputs": [],
   "source": [
    "with open('./py/train.buggy-fixed.buggy', 'w') as f1, open('./py/train.buggy-fixed.fixed', 'w') as f2:\n",
    "    length = py_data.shape[0]\n",
    "    for i in range(length):\n",
    "        f1.write(py_data.iloc[i]['BUGGY_CODE'] + '\\n')\n",
    "        f2.write(py_data.iloc[i]['FIXED_CODE'] + '\\n')"
   ]
  },
  {
   "cell_type": "code",
   "execution_count": 61,
   "id": "3c336a51-084e-4811-b218-7de6d8859a44",
   "metadata": {},
   "outputs": [],
   "source": [
    "cpp_test = pd.read_csv('../AutomatedTesting/ToolImplementation/data/cpp/dl_cpp_test.csv')"
   ]
  },
  {
   "cell_type": "code",
   "execution_count": 62,
   "id": "5d5286ff-7420-4adb-983f-fa9a5396b35b",
   "metadata": {},
   "outputs": [],
   "source": [
    "py_test = pd.read_csv('../AutomatedTesting/ToolImplementation/data/py/dl_py_test.csv')"
   ]
  },
  {
   "cell_type": "code",
   "execution_count": 63,
   "id": "b7c6726d-3da3-4376-a6a2-629a1946460b",
   "metadata": {},
   "outputs": [
    {
     "data": {
      "text/html": [
       "<div>\n",
       "<style scoped>\n",
       "    .dataframe tbody tr th:only-of-type {\n",
       "        vertical-align: middle;\n",
       "    }\n",
       "\n",
       "    .dataframe tbody tr th {\n",
       "        vertical-align: top;\n",
       "    }\n",
       "\n",
       "    .dataframe thead th {\n",
       "        text-align: right;\n",
       "    }\n",
       "</style>\n",
       "<table border=\"1\" class=\"dataframe\">\n",
       "  <thead>\n",
       "    <tr style=\"text-align: right;\">\n",
       "      <th></th>\n",
       "      <th>BUGGY_CODE</th>\n",
       "      <th>FIXED_CODE</th>\n",
       "    </tr>\n",
       "  </thead>\n",
       "  <tbody>\n",
       "    <tr>\n",
       "      <th>count</th>\n",
       "      <td>58</td>\n",
       "      <td>58</td>\n",
       "    </tr>\n",
       "    <tr>\n",
       "      <th>unique</th>\n",
       "      <td>56</td>\n",
       "      <td>56</td>\n",
       "    </tr>\n",
       "    <tr>\n",
       "      <th>top</th>\n",
       "      <td>if ( bag_size . defined ( ) ) { bag_size_data ...</td>\n",
       "      <td>if ( bag_size . defined ( ) ) { bag_size_data ...</td>\n",
       "    </tr>\n",
       "    <tr>\n",
       "      <th>freq</th>\n",
       "      <td>2</td>\n",
       "      <td>2</td>\n",
       "    </tr>\n",
       "  </tbody>\n",
       "</table>\n",
       "</div>"
      ],
      "text/plain": [
       "                                               BUGGY_CODE  \\\n",
       "count                                                  58   \n",
       "unique                                                 56   \n",
       "top     if ( bag_size . defined ( ) ) { bag_size_data ...   \n",
       "freq                                                    2   \n",
       "\n",
       "                                               FIXED_CODE  \n",
       "count                                                  58  \n",
       "unique                                                 56  \n",
       "top     if ( bag_size . defined ( ) ) { bag_size_data ...  \n",
       "freq                                                    2  "
      ]
     },
     "execution_count": 63,
     "metadata": {},
     "output_type": "execute_result"
    }
   ],
   "source": [
    "cpp_test.describe()"
   ]
  },
  {
   "cell_type": "code",
   "execution_count": 64,
   "id": "c4e3973f-55ad-4258-819a-1beb536eb075",
   "metadata": {},
   "outputs": [
    {
     "data": {
      "text/html": [
       "<div>\n",
       "<style scoped>\n",
       "    .dataframe tbody tr th:only-of-type {\n",
       "        vertical-align: middle;\n",
       "    }\n",
       "\n",
       "    .dataframe tbody tr th {\n",
       "        vertical-align: top;\n",
       "    }\n",
       "\n",
       "    .dataframe thead th {\n",
       "        text-align: right;\n",
       "    }\n",
       "</style>\n",
       "<table border=\"1\" class=\"dataframe\">\n",
       "  <thead>\n",
       "    <tr style=\"text-align: right;\">\n",
       "      <th></th>\n",
       "      <th>BUGGY_CODE</th>\n",
       "      <th>FIXED_CODE</th>\n",
       "    </tr>\n",
       "  </thead>\n",
       "  <tbody>\n",
       "    <tr>\n",
       "      <th>count</th>\n",
       "      <td>44</td>\n",
       "      <td>44</td>\n",
       "    </tr>\n",
       "    <tr>\n",
       "      <th>unique</th>\n",
       "      <td>44</td>\n",
       "      <td>44</td>\n",
       "    </tr>\n",
       "    <tr>\n",
       "      <th>top</th>\n",
       "      <td>def icdf ( self , value ) : if self . _validat...</td>\n",
       "      <td>def icdf ( self , value ) : return torch . tan...</td>\n",
       "    </tr>\n",
       "    <tr>\n",
       "      <th>freq</th>\n",
       "      <td>1</td>\n",
       "      <td>1</td>\n",
       "    </tr>\n",
       "  </tbody>\n",
       "</table>\n",
       "</div>"
      ],
      "text/plain": [
       "                                               BUGGY_CODE  \\\n",
       "count                                                  44   \n",
       "unique                                                 44   \n",
       "top     def icdf ( self , value ) : if self . _validat...   \n",
       "freq                                                    1   \n",
       "\n",
       "                                               FIXED_CODE  \n",
       "count                                                  44  \n",
       "unique                                                 44  \n",
       "top     def icdf ( self , value ) : return torch . tan...  \n",
       "freq                                                    1  "
      ]
     },
     "execution_count": 64,
     "metadata": {},
     "output_type": "execute_result"
    }
   ],
   "source": [
    "py_test.describe()"
   ]
  },
  {
   "cell_type": "code",
   "execution_count": 65,
   "id": "d9a33b98-6517-4f5a-bbb1-8ba815a1bc81",
   "metadata": {},
   "outputs": [],
   "source": [
    "with open('./cpp/test.buggy-fixed.buggy', 'w') as f1, open('./cpp/test.buggy-fixed.fixed', 'w') as f2:\n",
    "    length = cpp_test.shape[0]\n",
    "    for i in range(length):\n",
    "        f1.write(cpp_test.iloc[i]['BUGGY_CODE'] + '\\n')\n",
    "        f2.write(cpp_test.iloc[i]['FIXED_CODE'] + '\\n')"
   ]
  },
  {
   "cell_type": "code",
   "execution_count": 66,
   "id": "87876b95-db4f-41da-a185-b01155487e6a",
   "metadata": {},
   "outputs": [],
   "source": [
    "with open('./py/test.buggy-fixed.buggy', 'w') as f1, open('./py/test.buggy-fixed.fixed', 'w') as f2:\n",
    "    length = py_test.shape[0]\n",
    "    for i in range(length):\n",
    "        f1.write(py_test.iloc[i]['BUGGY_CODE'] + '\\n')\n",
    "        f2.write(py_test.iloc[i]['FIXED_CODE'] + '\\n')"
   ]
  },
  {
   "cell_type": "code",
   "execution_count": 67,
   "id": "9233b7c1-0796-4f80-bf16-6c695145bca8",
   "metadata": {},
   "outputs": [],
   "source": [
    "cpp_val = pd.read_csv('../AutomatedTesting/ToolImplementation/data/cpp/dl_cpp_val.csv')"
   ]
  },
  {
   "cell_type": "code",
   "execution_count": 68,
   "id": "69ae2db1-c1c4-4f83-a346-ebb37739f871",
   "metadata": {},
   "outputs": [],
   "source": [
    "py_val = pd.read_csv('../AutomatedTesting/ToolImplementation/data/py/dl_py_val.csv')"
   ]
  },
  {
   "cell_type": "code",
   "execution_count": 69,
   "id": "a0d0fe5b-2a48-4c02-a4f9-3f83021f3d03",
   "metadata": {},
   "outputs": [
    {
     "data": {
      "text/html": [
       "<div>\n",
       "<style scoped>\n",
       "    .dataframe tbody tr th:only-of-type {\n",
       "        vertical-align: middle;\n",
       "    }\n",
       "\n",
       "    .dataframe tbody tr th {\n",
       "        vertical-align: top;\n",
       "    }\n",
       "\n",
       "    .dataframe thead th {\n",
       "        text-align: right;\n",
       "    }\n",
       "</style>\n",
       "<table border=\"1\" class=\"dataframe\">\n",
       "  <thead>\n",
       "    <tr style=\"text-align: right;\">\n",
       "      <th></th>\n",
       "      <th>BUGGY_CODE</th>\n",
       "      <th>FIXED_CODE</th>\n",
       "    </tr>\n",
       "  </thead>\n",
       "  <tbody>\n",
       "    <tr>\n",
       "      <th>count</th>\n",
       "      <td>30</td>\n",
       "      <td>30</td>\n",
       "    </tr>\n",
       "    <tr>\n",
       "      <th>unique</th>\n",
       "      <td>29</td>\n",
       "      <td>29</td>\n",
       "    </tr>\n",
       "    <tr>\n",
       "      <th>top</th>\n",
       "      <td>work = c10::make_intrusive&lt;AsyncGatherCUDAWork...</td>\n",
       "      <td>work = c10::make_intrusive&lt;AsyncGatherCUDAWork...</td>\n",
       "    </tr>\n",
       "    <tr>\n",
       "      <th>freq</th>\n",
       "      <td>2</td>\n",
       "      <td>2</td>\n",
       "    </tr>\n",
       "  </tbody>\n",
       "</table>\n",
       "</div>"
      ],
      "text/plain": [
       "                                               BUGGY_CODE  \\\n",
       "count                                                  30   \n",
       "unique                                                 29   \n",
       "top     work = c10::make_intrusive<AsyncGatherCUDAWork...   \n",
       "freq                                                    2   \n",
       "\n",
       "                                               FIXED_CODE  \n",
       "count                                                  30  \n",
       "unique                                                 29  \n",
       "top     work = c10::make_intrusive<AsyncGatherCUDAWork...  \n",
       "freq                                                    2  "
      ]
     },
     "execution_count": 69,
     "metadata": {},
     "output_type": "execute_result"
    }
   ],
   "source": [
    "cpp_val.describe()"
   ]
  },
  {
   "cell_type": "code",
   "execution_count": 70,
   "id": "e83a24ce-6307-4c82-8abb-3ca27e05df65",
   "metadata": {},
   "outputs": [
    {
     "data": {
      "text/html": [
       "<div>\n",
       "<style scoped>\n",
       "    .dataframe tbody tr th:only-of-type {\n",
       "        vertical-align: middle;\n",
       "    }\n",
       "\n",
       "    .dataframe tbody tr th {\n",
       "        vertical-align: top;\n",
       "    }\n",
       "\n",
       "    .dataframe thead th {\n",
       "        text-align: right;\n",
       "    }\n",
       "</style>\n",
       "<table border=\"1\" class=\"dataframe\">\n",
       "  <thead>\n",
       "    <tr style=\"text-align: right;\">\n",
       "      <th></th>\n",
       "      <th>BUGGY_CODE</th>\n",
       "      <th>FIXED_CODE</th>\n",
       "    </tr>\n",
       "  </thead>\n",
       "  <tbody>\n",
       "    <tr>\n",
       "      <th>count</th>\n",
       "      <td>24</td>\n",
       "      <td>24</td>\n",
       "    </tr>\n",
       "    <tr>\n",
       "      <th>unique</th>\n",
       "      <td>24</td>\n",
       "      <td>24</td>\n",
       "    </tr>\n",
       "    <tr>\n",
       "      <th>top</th>\n",
       "      <td>def gen_returns ( returns : List [ Return ] , ...</td>\n",
       "      <td>def gen_returns ( returns : Tuple [ Return , ....</td>\n",
       "    </tr>\n",
       "    <tr>\n",
       "      <th>freq</th>\n",
       "      <td>1</td>\n",
       "      <td>1</td>\n",
       "    </tr>\n",
       "  </tbody>\n",
       "</table>\n",
       "</div>"
      ],
      "text/plain": [
       "                                               BUGGY_CODE  \\\n",
       "count                                                  24   \n",
       "unique                                                 24   \n",
       "top     def gen_returns ( returns : List [ Return ] , ...   \n",
       "freq                                                    1   \n",
       "\n",
       "                                               FIXED_CODE  \n",
       "count                                                  24  \n",
       "unique                                                 24  \n",
       "top     def gen_returns ( returns : Tuple [ Return , ....  \n",
       "freq                                                    1  "
      ]
     },
     "execution_count": 70,
     "metadata": {},
     "output_type": "execute_result"
    }
   ],
   "source": [
    "py_val.describe()"
   ]
  },
  {
   "cell_type": "code",
   "execution_count": 73,
   "id": "69622fa7-8836-440e-88fe-04f0757b3612",
   "metadata": {},
   "outputs": [],
   "source": [
    "with open('./cpp/valid.buggy-fixed.buggy', 'w') as f1, open('./cpp/valid.buggy-fixed.fixed', 'w') as f2:\n",
    "    length = cpp_val.shape[0]\n",
    "    for i in range(length):\n",
    "        f1.write(cpp_val.iloc[i]['BUGGY_CODE'] + '\\n')\n",
    "        f2.write(cpp_val.iloc[i]['FIXED_CODE'] + '\\n')"
   ]
  },
  {
   "cell_type": "code",
   "execution_count": 74,
   "id": "17a51475-bbfc-452e-a0c6-4a50d9136584",
   "metadata": {},
   "outputs": [],
   "source": [
    "with open('./py/valid.buggy-fixed.buggy', 'w') as f1, open('./py/valid.buggy-fixed.fixed', 'w') as f2:\n",
    "    length = py_val.shape[0]\n",
    "    for i in range(length):\n",
    "        f1.write(py_val.iloc[i]['BUGGY_CODE'] + '\\n')\n",
    "        f2.write(py_val.iloc[i]['FIXED_CODE'] + '\\n')"
   ]
  },
  {
   "cell_type": "code",
   "execution_count": null,
   "id": "b63cce5b-5a80-4e81-be4b-dcc5bbc849f7",
   "metadata": {},
   "outputs": [],
   "source": []
  }
 ],
 "metadata": {
  "kernelspec": {
   "display_name": "Python 3 (ipykernel)",
   "language": "python",
   "name": "python3"
  },
  "language_info": {
   "codemirror_mode": {
    "name": "ipython",
    "version": 3
   },
   "file_extension": ".py",
   "mimetype": "text/x-python",
   "name": "python",
   "nbconvert_exporter": "python",
   "pygments_lexer": "ipython3",
   "version": "3.8.10"
  }
 },
 "nbformat": 4,
 "nbformat_minor": 5
}
