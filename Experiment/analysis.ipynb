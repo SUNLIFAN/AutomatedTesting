{
 "cells": [
  {
   "cell_type": "markdown",
   "id": "da7a7c03-ae59-4f2c-9483-b04b7d280bbb",
   "metadata": {},
   "source": [
    "# 实验结果绘图"
   ]
  },
  {
   "cell_type": "code",
   "execution_count": 25,
   "id": "ea5350dc-e0a4-4e33-9a98-cdcda61793de",
   "metadata": {},
   "outputs": [],
   "source": [
    "import numpy as np\n",
    "import pandas as pd\n",
    "import matplotlib.pyplot as plt"
   ]
  },
  {
   "cell_type": "markdown",
   "id": "6678d9cf-46d9-4c38-bed9-1a58b3f0ea40",
   "metadata": {},
   "source": [
    "## With Prompt + With Re-repair"
   ]
  },
  {
   "cell_type": "code",
   "execution_count": 26,
   "id": "ae228f08-0335-4027-8fb2-f2a2c18622b7",
   "metadata": {},
   "outputs": [
    {
     "data": {
      "text/plain": [
       "[0, 1, 2, 3, 4, 5, 6, 7, 8, 9, 10, 11, 12, 13, 14, 15, 16, 17]"
      ]
     },
     "execution_count": 26,
     "metadata": {},
     "output_type": "execute_result"
    }
   ],
   "source": [
    "epoch = list(range(18))\n",
    "epoch"
   ]
  },
  {
   "cell_type": "code",
   "execution_count": 27,
   "id": "e82c1aae-2866-4ba8-b22c-8b0a698596a8",
   "metadata": {},
   "outputs": [],
   "source": [
    "bleu_plus_em = [70.38, 76.56, 78.05, 79.4, 79.75 + 7.4, 80.87 + 12.963, 80.82 + 14.81, 81.52 + 18.5185, \n",
    "               81.61 + 18.5185, 81.78 + 18.5185, 82.49 + 18.5185, 83.02 + 20.3704, 81.94 + 24.0794, \n",
    "               83.28 + 24.0741, 81.99 + 22.2222, 82.75 + 24.0741, 82.4 + 24.0741, 83.6 + 22.2222]"
   ]
  },
  {
   "cell_type": "code",
   "execution_count": 28,
   "id": "02abf8e5-cf42-485d-9bf7-e797d6bcfbe6",
   "metadata": {},
   "outputs": [
    {
     "data": {
      "text/plain": [
       "[70.38,\n",
       " 76.56,\n",
       " 78.05,\n",
       " 79.4,\n",
       " 87.15,\n",
       " 93.833,\n",
       " 95.63,\n",
       " 100.0385,\n",
       " 100.1285,\n",
       " 100.2985,\n",
       " 101.0085,\n",
       " 103.3904,\n",
       " 106.01939999999999,\n",
       " 107.3541,\n",
       " 104.2122,\n",
       " 106.8241,\n",
       " 106.4741,\n",
       " 105.8222]"
      ]
     },
     "execution_count": 28,
     "metadata": {},
     "output_type": "execute_result"
    }
   ],
   "source": [
    "bleu_plus_em"
   ]
  },
  {
   "cell_type": "code",
   "execution_count": 29,
   "id": "49bc8ad4-9f8e-4628-bd91-866dc42a6dac",
   "metadata": {},
   "outputs": [],
   "source": [
    "x1 = np.array(epoch)\n",
    "y1 = np.array(bleu_plus_em)"
   ]
  },
  {
   "cell_type": "code",
   "execution_count": 30,
   "id": "fa0fff01-190b-425a-9639-fd50b3cbeb29",
   "metadata": {},
   "outputs": [
    {
     "data": {
      "text/plain": [
       "array([ 0,  1,  2,  3,  4,  5,  6,  7,  8,  9, 10, 11, 12, 13, 14, 15, 16,\n",
       "       17])"
      ]
     },
     "execution_count": 30,
     "metadata": {},
     "output_type": "execute_result"
    }
   ],
   "source": [
    "x1"
   ]
  },
  {
   "cell_type": "code",
   "execution_count": 31,
   "id": "6f97467c-5cae-4898-8958-cb4d6ae5186a",
   "metadata": {},
   "outputs": [
    {
     "data": {
      "text/plain": [
       "array([ 70.38  ,  76.56  ,  78.05  ,  79.4   ,  87.15  ,  93.833 ,\n",
       "        95.63  , 100.0385, 100.1285, 100.2985, 101.0085, 103.3904,\n",
       "       106.0194, 107.3541, 104.2122, 106.8241, 106.4741, 105.8222])"
      ]
     },
     "execution_count": 31,
     "metadata": {},
     "output_type": "execute_result"
    }
   ],
   "source": [
    "y1"
   ]
  },
  {
   "cell_type": "code",
   "execution_count": 32,
   "id": "683fc407-a5a3-44cd-bc25-89db3d767dc8",
   "metadata": {},
   "outputs": [
    {
     "data": {
      "image/png": "[encoded data removed]",
      "text/plain": [
       "<Figure size 432x288 with 1 Axes>"
      ]
     },
     "metadata": {
      "needs_background": "light"
     },
     "output_type": "display_data"
    }
   ],
   "source": [
    "plt.plot(x1, y1)\n",
    "plt.xlabel('epoch')\n",
    "plt.ylabel('bleu-4 + em')\n",
    "plt.show()"
   ]
  },
  {
   "cell_type": "markdown",
   "id": "7fb22b4b-d906-40f1-b327-b0ec9eecb28b",
   "metadata": {},
   "source": [
    "## With Prompt + Without Re-repair"
   ]
  },
  {
   "cell_type": "code",
   "execution_count": 33,
   "id": "0c98b968-128a-4f79-a2cb-826b6a269015",
   "metadata": {},
   "outputs": [
    {
     "data": {
      "text/plain": [
       "[0, 1, 2, 3, 4, 5, 6, 7, 8, 9, 10, 11, 12, 13, 14, 15, 16, 17]"
      ]
     },
     "execution_count": 33,
     "metadata": {},
     "output_type": "execute_result"
    }
   ],
   "source": [
    "epoch = list(range(18))\n",
    "epoch"
   ]
  },
  {
   "cell_type": "code",
   "execution_count": 34,
   "id": "5b9bb8ec-e440-4292-a600-2032a144508d",
   "metadata": {},
   "outputs": [],
   "source": [
    "bleu_plus_em = [69.56, 75.6, 79.15, 79.3, 79.45 + 6.5, 80.7 + 12.8, 80.1 + 14.5, 81.4 + 18.5185, \n",
    "               81.5 + 18.5185, 81.68 + 18.5185, 82.35 + 18.5185, 82.67 + 20.3704, 81.94 + 23.0894, \n",
    "               83.18 + 24.0741, 81.99 + 22.2222, 82.72 + 24.0741, 82.39 + 24.078, 83.4 + 22.2222]"
   ]
  },
  {
   "cell_type": "code",
   "execution_count": 35,
   "id": "3c279327-5926-4715-8f40-f509dfae31e8",
   "metadata": {},
   "outputs": [],
   "source": [
    "x2 = epoch\n",
    "y2 = bleu_plus_em"
   ]
  },
  {
   "cell_type": "code",
   "execution_count": 36,
   "id": "61b16dcf-726d-4b56-b9cb-00847e570785",
   "metadata": {},
   "outputs": [
    {
     "data": {
      "image/png": "[encoded data removed]",
      "text/plain": [
       "<Figure size 432x288 with 1 Axes>"
      ]
     },
     "metadata": {
      "needs_background": "light"
     },
     "output_type": "display_data"
    }
   ],
   "source": [
    "plt.plot(x2, y2)\n",
    "plt.xlabel('epoch')\n",
    "plt.ylabel('bleu-4 + em')\n",
    "plt.show()"
   ]
  },
  {
   "cell_type": "markdown",
   "id": "cad8d3e5-948f-4843-8a92-60639b282396",
   "metadata": {},
   "source": [
    "## Without Prompt + With Re-repair"
   ]
  },
  {
   "cell_type": "code",
   "execution_count": 37,
   "id": "3afa2b84-f1be-4a1a-a998-79589f87b3cc",
   "metadata": {},
   "outputs": [
    {
     "data": {
      "text/plain": [
       "[0, 1, 2, 3, 4, 5, 6, 7, 8, 9, 10, 11, 12, 13, 14, 15, 16, 17]"
      ]
     },
     "execution_count": 37,
     "metadata": {},
     "output_type": "execute_result"
    }
   ],
   "source": [
    "epoch = list(range(18))\n",
    "epoch"
   ]
  },
  {
   "cell_type": "code",
   "execution_count": 40,
   "id": "a224f706-8dcf-4172-88b2-60a6c7acd4a8",
   "metadata": {},
   "outputs": [],
   "source": [
    "bleu_plus_em = [72.48, 76.01, 78.54, 79.11, 87.55, 87.84, 98.59, 99.57, 99.56, 99.75, 102.35, 102.17, 103.74, \n",
    "               105.05, 104.66, 104.41, 104.49, 103.23]"
   ]
  },
  {
   "cell_type": "code",
   "execution_count": 41,
   "id": "92ca01fd-a34a-4516-a959-3ec600561c9a",
   "metadata": {},
   "outputs": [],
   "source": [
    "x3 = epoch\n",
    "y3 = bleu_plus_em"
   ]
  },
  {
   "cell_type": "code",
   "execution_count": 42,
   "id": "05c3033a-0db6-4259-a1ed-42f552ddb009",
   "metadata": {},
   "outputs": [
    {
     "data": {
      "image/png": "[encoded data removed]",
      "text/plain": [
       "<Figure size 432x288 with 1 Axes>"
      ]
     },
     "metadata": {
      "needs_background": "light"
     },
     "output_type": "display_data"
    }
   ],
   "source": [
    "plt.plot(x3, y3)\n",
    "plt.xlabel('epoch')\n",
    "plt.ylabel('bleu-4 + em')\n",
    "plt.show()"
   ]
  },
  {
   "cell_type": "markdown",
   "id": "1f08b1c5-9985-440e-8896-6e60533e7d27",
   "metadata": {},
   "source": [
    "## Without Prompt + Without Re-repair"
   ]
  },
  {
   "cell_type": "code",
   "execution_count": 43,
   "id": "29ed755c-b504-4aa7-9322-e27579e5a9a1",
   "metadata": {},
   "outputs": [
    {
     "data": {
      "text/plain": [
       "[0, 1, 2, 3, 4, 5, 6, 7, 8, 9, 10, 11, 12, 13, 14, 15, 16, 17]"
      ]
     },
     "execution_count": 43,
     "metadata": {},
     "output_type": "execute_result"
    }
   ],
   "source": [
    "epoch = list(range(18))\n",
    "epoch"
   ]
  },
  {
   "cell_type": "code",
   "execution_count": 44,
   "id": "59de6db9-3286-417f-9822-65f64067928e",
   "metadata": {},
   "outputs": [],
   "source": [
    "bleu_plus_em = [72.38, 76.04, 77.54, 79.29, 86.55, 87.84, 98.54, 99.43, 99.76, 99.75, 102.35, 102.27, 103.98, \n",
    "               105.15, 103.99, 104.52, 104.21, 103.03]"
   ]
  },
  {
   "cell_type": "code",
   "execution_count": 45,
   "id": "b3dc419d-c475-48cd-961d-82e6e54a615f",
   "metadata": {},
   "outputs": [],
   "source": [
    "x4 = epoch\n",
    "y4 = bleu_plus_em"
   ]
  },
  {
   "cell_type": "code",
   "execution_count": 47,
   "id": "d30f629b-0a10-45e9-a0ec-82003f988f20",
   "metadata": {},
   "outputs": [
    {
     "data": {
      "image/png": "[encoded data removed]",
      "text/plain": [
       "<Figure size 432x288 with 1 Axes>"
      ]
     },
     "metadata": {
      "needs_background": "light"
     },
     "output_type": "display_data"
    }
   ],
   "source": [
    "plt.plot(x4, y4)\n",
    "plt.xlabel('epoch')\n",
    "plt.ylabel('bleu-4 + em')\n",
    "plt.show()"
   ]
  },
  {
   "cell_type": "markdown",
   "id": "0260b80a-c862-48cd-a89b-837d2a95c62f",
   "metadata": {},
   "source": [
    "## 绘制对比曲线"
   ]
  },
  {
   "cell_type": "code",
   "execution_count": 65,
   "id": "fafbb0ee-c8b7-4504-8b06-b2b2df2c2850",
   "metadata": {},
   "outputs": [],
   "source": [
    "x = epoch"
   ]
  },
  {
   "cell_type": "code",
   "execution_count": 66,
   "id": "be82db4d-4935-4377-99d9-528a13d5b247",
   "metadata": {},
   "outputs": [
    {
     "data": {
      "image/png": "[encoded data removed]",
      "text/plain": [
       "<Figure size 432x288 with 1 Axes>"
      ]
     },
     "metadata": {
      "needs_background": "light"
     },
     "output_type": "display_data"
    }
   ],
   "source": [
    "fig, ax = plt.subplots()"
   ]
  },
  {
   "cell_type": "code",
   "execution_count": 67,
   "id": "cbc0016a-71b8-41fe-babc-80d048dc9a6d",
   "metadata": {},
   "outputs": [
    {
     "data": {
      "text/plain": [
       "[<matplotlib.lines.Line2D at 0x7f76621571c0>]"
      ]
     },
     "execution_count": 67,
     "metadata": {},
     "output_type": "execute_result"
    }
   ],
   "source": [
    "ax.plot(x, y1, label='w prompt & w re-repair')"
   ]
  },
  {
   "cell_type": "code",
   "execution_count": 68,
   "id": "0181c7fc-a6c8-4eb9-bbb6-0fff4b00791f",
   "metadata": {},
   "outputs": [
    {
     "data": {
      "text/plain": [
       "[<matplotlib.lines.Line2D at 0x7f7662274250>]"
      ]
     },
     "execution_count": 68,
     "metadata": {},
     "output_type": "execute_result"
    }
   ],
   "source": [
    "ax.plot(x, y2, label='w prompt & w/o re-repair')"
   ]
  },
  {
   "cell_type": "code",
   "execution_count": 69,
   "id": "43578980-6879-4285-89ae-b06d2506a29c",
   "metadata": {},
   "outputs": [
    {
     "data": {
      "text/plain": [
       "[<matplotlib.lines.Line2D at 0x7f766215b8b0>]"
      ]
     },
     "execution_count": 69,
     "metadata": {},
     "output_type": "execute_result"
    }
   ],
   "source": [
    "ax.plot(x, y3, label='w/o prompt & w repair')"
   ]
  },
  {
   "cell_type": "code",
   "execution_count": 70,
   "id": "5b01f6d0-d3b8-4e82-a80d-08c4de72dea7",
   "metadata": {},
   "outputs": [
    {
     "data": {
      "text/plain": [
       "[<matplotlib.lines.Line2D at 0x7f766216e0a0>]"
      ]
     },
     "execution_count": 70,
     "metadata": {},
     "output_type": "execute_result"
    }
   ],
   "source": [
    "ax.plot(x, y4, label='w/o prompt & w/o re-repair')"
   ]
  },
  {
   "cell_type": "code",
   "execution_count": 71,
   "id": "7e40e230-da74-40d0-b273-080679f0b468",
   "metadata": {},
   "outputs": [
    {
     "data": {
      "text/plain": [
       "Text(0.5, 3.1999999999999993, 'epoch')"
      ]
     },
     "execution_count": 71,
     "metadata": {},
     "output_type": "execute_result"
    }
   ],
   "source": [
    "ax.set_xlabel('epoch')"
   ]
  },
  {
   "cell_type": "code",
   "execution_count": 72,
   "id": "fa60a01c-95bf-40ec-a5d7-e2702ce13f2c",
   "metadata": {},
   "outputs": [
    {
     "data": {
      "text/plain": [
       "Text(3.200000000000003, 0.5, 'bleu + em')"
      ]
     },
     "execution_count": 72,
     "metadata": {},
     "output_type": "execute_result"
    }
   ],
   "source": [
    "ax.set_ylabel('bleu + em')"
   ]
  },
  {
   "cell_type": "code",
   "execution_count": 73,
   "id": "6df0256b-9d41-4805-b14c-b99c78792f67",
   "metadata": {},
   "outputs": [
    {
     "data": {
      "text/plain": [
       "Text(0.5, 1.0, 'validation bleu + em')"
      ]
     },
     "execution_count": 73,
     "metadata": {},
     "output_type": "execute_result"
    }
   ],
   "source": [
    "ax.set_title('validation bleu + em')"
   ]
  },
  {
   "cell_type": "code",
   "execution_count": 74,
   "id": "3b8e7414-d380-4002-8cb8-09164c687940",
   "metadata": {},
   "outputs": [
    {
     "data": {
      "text/plain": [
       "<matplotlib.legend.Legend at 0x7f766215bf40>"
      ]
     },
     "execution_count": 74,
     "metadata": {},
     "output_type": "execute_result"
    }
   ],
   "source": [
    "ax.legend()"
   ]
  },
  {
   "cell_type": "code",
   "execution_count": 79,
   "id": "60fbe9db-596c-4904-8547-6da6ee375b7b",
   "metadata": {},
   "outputs": [],
   "source": [
    "fig.savefig('./plot.png')"
   ]
  }
 ],
 "metadata": {
  "kernelspec": {
   "display_name": "Python 3 (ipykernel)",
   "language": "python",
   "name": "python3"
  },
  "language_info": {
   "codemirror_mode": {
    "name": "ipython",
    "version": 3
   },
   "file_extension": ".py",
   "mimetype": "text/x-python",
   "name": "python",
   "nbconvert_exporter": "python",
   "pygments_lexer": "ipython3",
   "version": "3.8.10"
  }
 },
 "nbformat": 4,
 "nbformat_minor": 5
}
